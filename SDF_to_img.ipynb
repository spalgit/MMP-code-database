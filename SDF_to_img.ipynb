{
 "cells": [
  {
   "cell_type": "code",
   "execution_count": 1,
   "id": "e026e592",
   "metadata": {},
   "outputs": [],
   "source": [
    "import sys\n",
    "import re\n",
    "from rdkit import Chem\n",
    "from rdkit.Chem.Draw import rdMolDraw2D\n",
    "from optparse import OptionParser\n",
    "import pandas as pd\n",
    "import numpy as np\n",
    "from rdkit.Chem.Descriptors import MolWt, HeavyAtomCount,MolLogP, RingCount, NumAromaticRings, NumHDonors, NumHAcceptors\n",
    "from rdkit.Chem.Descriptors import NumAromaticRings, qed\n",
    "from rdkit.Chem.QED import QEDproperties\n",
    "from rdkit.Chem import rdMMPA\n",
    "from indexing_call_as_function import cansmirk,add_context_to_smirks,index_from_smiles_re,gen_queries,gen_queries_for_H_transform,add_context_to_lhs\n",
    "from rdkit.Chem.Draw import IPythonConsole\n",
    "from rdkit.Chem.MolStandardize import rdMolStandardize\n",
    "from rdkit.Chem import Draw\n",
    "from rdkit.Chem import AllChem\n",
    "from molvs import standardize_smiles, Standardizer\n",
    "from rdkit.Chem.AllChem import GetMorganFingerprintAsBitVect\n",
    "from rdkit.Chem.SaltRemover import SaltRemover\n",
    "\n",
    "import numpy as np\n",
    "import pandas as pd\n",
    "import psycopg2\n",
    "import hidden\n",
    "import itertools\n",
    "import time"
   ]
  },
  {
   "cell_type": "code",
   "execution_count": 2,
   "id": "29d481ea",
   "metadata": {},
   "outputs": [],
   "source": [
    "# Load the secrets\n",
    "secrets = hidden.secrets()\n",
    "\n",
    "conn = psycopg2.connect(host=secrets['host'],\n",
    "        port=secrets['port'],\n",
    "        database=secrets['database'],\n",
    "        user=secrets['user'],\n",
    "        password=secrets['pass'],\n",
    "        connect_timeout=1000)\n",
    "\n",
    "cur = conn.cursor()"
   ]
  },
  {
   "cell_type": "code",
   "execution_count": 3,
   "id": "4c18f6b7",
   "metadata": {},
   "outputs": [
    {
     "name": "stdout",
     "output_type": "stream",
     "text": [
      "DROP TABLE IF EXISTS ikenacomp_images CASCADE;\n"
     ]
    }
   ],
   "source": [
    "sql = 'DROP TABLE IF EXISTS ikenacomp_images CASCADE;'\n",
    "print(sql)\n",
    "cur.execute(sql)"
   ]
  },
  {
   "cell_type": "code",
   "execution_count": 4,
   "id": "cce33e14",
   "metadata": {},
   "outputs": [
    {
     "name": "stdout",
     "output_type": "stream",
     "text": [
      "CREATE TABLE ikenacomp_images (id SERIAL, Molecule_id varchar(128), img bytea, primary key(id));\n"
     ]
    }
   ],
   "source": [
    "sql = 'CREATE TABLE ikenacomp_images (id SERIAL, Molecule_id varchar(128), '\\\n",
    "      'img bytea, '\\\n",
    "     'primary key(id));'\n",
    "print(sql)\n",
    "cur.execute(sql)"
   ]
  },
  {
   "cell_type": "code",
   "execution_count": 5,
   "id": "38851f2d",
   "metadata": {},
   "outputs": [],
   "source": [
    "suppl = Chem.SDMolSupplier('../MMP_files/CDD_18_April_2022.sdf')"
   ]
  },
  {
   "cell_type": "code",
   "execution_count": 6,
   "id": "1dc13505",
   "metadata": {},
   "outputs": [],
   "source": [
    "ms = [x for x in suppl if x is not None]\n",
    "names = [x.GetProp('Molecule Name') for x in ms]\n",
    "#  name = mol.GetProp('Molecule Name')"
   ]
  },
  {
   "cell_type": "code",
   "execution_count": 7,
   "id": "f2aabcd2",
   "metadata": {},
   "outputs": [
    {
     "data": {
      "text/plain": [
       "8397"
      ]
     },
     "execution_count": 7,
     "metadata": {},
     "output_type": "execute_result"
    }
   ],
   "source": [
    "len(ms)"
   ]
  },
  {
   "cell_type": "code",
   "execution_count": 8,
   "id": "c98a50d8",
   "metadata": {},
   "outputs": [
    {
     "data": {
      "text/plain": [
       "8397"
      ]
     },
     "execution_count": 8,
     "metadata": {},
     "output_type": "execute_result"
    }
   ],
   "source": [
    "len(names)"
   ]
  },
  {
   "cell_type": "code",
   "execution_count": 9,
   "id": "d5e01403",
   "metadata": {},
   "outputs": [],
   "source": [
    "for i in range (10):\n",
    "    Draw.MolsToGridImage([ms[0]], subImgSize=(400,400))\n",
    "    "
   ]
  },
  {
   "cell_type": "code",
   "execution_count": 10,
   "id": "223b2177",
   "metadata": {
    "scrolled": true
   },
   "outputs": [],
   "source": [
    "namesall = []\n",
    "for x in ms:\n",
    "    img_name = x.GetProp('Molecule Name')+\".png\"\n",
    "    if(img_name not in namesall):\n",
    "        y = [x]\n",
    "        img=Draw.MolsToGridImage(y,molsPerRow=1,subImgSize=(400,400),legends=[u.GetProp(\"Molecule Name\") for u in y], returnPNG=False)\n",
    "        img_ = \"C:\\MAMP\\htdocs\\MMP_v3\\images\\{}\".format(img_name)\n",
    "        img.save(img_)\n",
    "        namesall.append(img_name)\n",
    "    "
   ]
  },
  {
   "cell_type": "code",
   "execution_count": 11,
   "id": "e8345411",
   "metadata": {
    "scrolled": false
   },
   "outputs": [
    {
     "data": {
      "text/plain": [
       "1693"
      ]
     },
     "execution_count": 11,
     "metadata": {},
     "output_type": "execute_result"
    }
   ],
   "source": [
    "len(namesall)"
   ]
  },
  {
   "cell_type": "code",
   "execution_count": 12,
   "id": "bfde7bf1",
   "metadata": {},
   "outputs": [],
   "source": [
    "files = ['../MMP_files/Clearance.csv',\n",
    "        '../MMP_files/Chembl_t_half.csv',\n",
    "        '../MMP_files/Bioavail_All_Chembl.csv',\n",
    "        '../MMP_files/Chembl_herg.csv',\n",
    "        '../MMP_files/Vdss_All_Chembl.csv',\n",
    "        ]"
   ]
  },
  {
   "cell_type": "code",
   "execution_count": 13,
   "id": "bf493fe9",
   "metadata": {},
   "outputs": [],
   "source": [
    "df_1 = pd.read_csv('../MMP_files/Clearance.csv')\n",
    "df_2 = pd.read_csv('../MMP_files/Chembl_t_half.csv')\n",
    "df_3 = pd.read_csv('../MMP_files/Bioavail_All_Chembl.csv')\n",
    "df_4 = pd.read_csv('../MMP_files/Chembl_herg.csv')\n",
    "df_5 = pd.read_csv('../MMP_files/Vdss_All_Chembl.csv')"
   ]
  },
  {
   "cell_type": "code",
   "execution_count": 14,
   "id": "f179f120",
   "metadata": {},
   "outputs": [],
   "source": [
    "df = pd.concat([df_1,df_2,df_3,df_3,df_5])"
   ]
  },
  {
   "cell_type": "code",
   "execution_count": 15,
   "id": "0d4797b8",
   "metadata": {},
   "outputs": [
    {
     "data": {
      "text/plain": [
       "Index(['Unnamed: 0', 'assay_chembl_id', 'assay_description',\n",
       "       'canonical_smiles', 'molecule_chembl_id', 'standard_type',\n",
       "       'standard_units', 'standard_value', 'type', 'units', 'value',\n",
       "       'Unnamed: 0.1'],\n",
       "      dtype='object')"
      ]
     },
     "execution_count": 15,
     "metadata": {},
     "output_type": "execute_result"
    }
   ],
   "source": [
    "df.columns"
   ]
  },
  {
   "cell_type": "code",
   "execution_count": 16,
   "id": "df0fe5b2",
   "metadata": {},
   "outputs": [],
   "source": [
    "df = df.dropna(subset = ['canonical_smiles'])\n",
    "df = df.drop_duplicates(subset=['molecule_chembl_id'])"
   ]
  },
  {
   "cell_type": "code",
   "execution_count": 17,
   "id": "b9425cce",
   "metadata": {},
   "outputs": [],
   "source": [
    "# namesall = []\n",
    "# for x in ms:\n",
    "#     img_name = x.GetProp('Molecule Name')+\".png\"\n",
    "#     if(img_name not in namesall):\n",
    "#         y = [x]\n",
    "#         img=Draw.MolsToGridImage(y,molsPerRow=1,subImgSize=(400,400),legends=[u.GetProp(\"Molecule Name\") for u in y], returnPNG=False)\n",
    "#         img_ = \"C:\\MAMP\\htdocs\\Web_Design_4e\\JSEvents\\images\\{}\".format(img_name)\n",
    "#         img.save(img_)\n",
    "#         namesall.append(img_name)"
   ]
  },
  {
   "cell_type": "code",
   "execution_count": 19,
   "id": "79056d02",
   "metadata": {},
   "outputs": [],
   "source": [
    "namesall = []\n",
    "for _, x in df.iterrows():\n",
    "    mol = Chem.MolFromSmiles(x['canonical_smiles'])\n",
    "    name = x['molecule_chembl_id']\n",
    "    img_name = name+\".png\"\n",
    "    img=Draw.MolsToGridImage([mol],molsPerRow=1,subImgSize=(400,400),legends=[name], returnPNG=False)\n",
    "    img_ = \"C:\\MAMP\\htdocs\\MMP_v3\\images\\{}\".format(img_name)\n",
    "    img.save(img_)\n",
    "    namesall.append(img_name)\n",
    "#     print(img_name)"
   ]
  },
  {
   "cell_type": "code",
   "execution_count": null,
   "id": "d764dc8f",
   "metadata": {},
   "outputs": [],
   "source": [
    "# sql = 'select * from ikenacomp_images where ' \\\n",
    "#           'values (%s,%s);'"
   ]
  },
  {
   "cell_type": "code",
   "execution_count": null,
   "id": "4d85dc08",
   "metadata": {},
   "outputs": [],
   "source": [
    "conn.commit()\n",
    "cur.close()"
   ]
  }
 ],
 "metadata": {
  "kernelspec": {
   "display_name": "Python 3",
   "language": "python",
   "name": "python3"
  },
  "language_info": {
   "codemirror_mode": {
    "name": "ipython",
    "version": 3
   },
   "file_extension": ".py",
   "mimetype": "text/x-python",
   "name": "python",
   "nbconvert_exporter": "python",
   "pygments_lexer": "ipython3",
   "version": "3.6.13"
  }
 },
 "nbformat": 4,
 "nbformat_minor": 5
}

{
 "cells": [
  {
   "cell_type": "code",
   "execution_count": 62,
   "id": "3886d6d4",
   "metadata": {},
   "outputs": [],
   "source": [
    "import sys, re\n",
    "from molvs import Standardizer\n",
    "from rdkit import Chem\n",
    "import pandas as pd\n",
    "import numpy as np\n",
    "import mysql.connector\n",
    "from mysql.connector import errorcode\n",
    "import operator\n",
    "from rdkit.Chem.SaltRemover import SaltRemover\n",
    "import sys\n",
    "import re\n",
    "from rdkit import Chem\n",
    "from rdkit.Chem.Draw import rdMolDraw2D\n",
    "from optparse import OptionParser\n",
    "import pandas as pd\n",
    "import numpy as np\n",
    "from rdkit.Chem.Descriptors import MolWt, HeavyAtomCount,MolLogP, RingCount, NumAromaticRings, NumHDonors, NumHAcceptors\n",
    "from rdkit.Chem.Descriptors import NumAromaticRings, qed\n",
    "from rdkit.Chem.QED import QEDproperties\n",
    "from rdkit.Chem import rdMMPA\n",
    "from indexing_call_as_function import cansmirk,add_context_to_smirks,index_from_smiles_re,gen_queries,gen_queries_for_H_transform,add_context_to_lhs\n",
    "from rdkit.Chem.Draw import IPythonConsole\n",
    "from rdkit.Chem.MolStandardize import rdMolStandardize\n",
    "from rdkit.Chem import Draw\n",
    "from rdkit.Chem import AllChem\n",
    "from molvs import standardize_smiles, Standardizer\n",
    "from rdkit.Chem.AllChem import GetMorganFingerprintAsBitVect\n",
    "from rdkit.Chem.SaltRemover import SaltRemover"
   ]
  },
  {
   "cell_type": "markdown",
   "id": "13e36139",
   "metadata": {},
   "source": [
    "# Download the data and prepare"
   ]
  },
  {
   "cell_type": "code",
   "execution_count": 63,
   "id": "9bae5e76",
   "metadata": {
    "scrolled": false
   },
   "outputs": [
    {
     "name": "stderr",
     "output_type": "stream",
     "text": [
      "C:\\ProgramData\\Anaconda3\\envs\\my-rdkit-env\\lib\\site-packages\\IPython\\core\\interactiveshell.py:3072: DtypeWarning: Columns (1,6,11,12,22,24,25,26,27,30,31,32,33,34,41,42,43,44,45,46,47,48,49,50,51,56,57,60,61,62,63,64,65,66,67,68,69,70,71,72,75,77,78,79,80,81,82,83,84,85,86,87,88,89,90,91,92) have mixed types.Specify dtype option on import or set low_memory=False.\n",
      "  interactivity=interactivity, compiler=compiler, result=result)\n"
     ]
    }
   ],
   "source": [
    "df = pd.read_csv('../MMP_files/CDD_18_April_2022.csv')"
   ]
  },
  {
   "cell_type": "code",
   "execution_count": 64,
   "id": "ee244014",
   "metadata": {},
   "outputs": [
    {
     "data": {
      "text/plain": [
       "Index(['Molecule Name', 'CDD Number', 'CXSMILES (CDD Compatible)', 'log P',\n",
       "       'log D', 'Topological polar surface area',\n",
       "       'ERK5 Biochem IC50: Project Name',\n",
       "       'ERK5 Biochem IC50: ERK5 Biochem IC50 (nM)',\n",
       "       'ERK5 Biochem IC50: Avg IC50 (nM)',\n",
       "       'ERK5 Biochem IC50: Avg IC50 (nM) Standard Deviation (±)',\n",
       "       'ERK5 Biochem IC50: Avg IC50 (nM) Count', 'hERG: IC50 (uM)',\n",
       "       'Kinetic Solubility (FaSSIF): Kinetic Solubility (uM)',\n",
       "       'Measured logD: logD', 'Pharmacokinetic: Species',\n",
       "       'Pharmacokinetic: Cmax (ng/mL)', 'Pharmacokinetic: Tmax (h)',\n",
       "       'Pharmacokinetic: T1/2 (h)', 'Pharmacokinetic: Vdss (L/kg)',\n",
       "       'Pharmacokinetic: Cl (mL/min/kg)',\n",
       "       'Pharmacokinetic: AUC 0-last (ng*h/mL)',\n",
       "       'Pharmacokinetic: Bioavailability (%)', 'Plasma Stability: Species',\n",
       "       'Plasma Stability: Parent remaining at 120 min (%)',\n",
       "       'Plasma Stability: T1/2', 'ERK5 MEF2 IC50 Paraza: Project Name',\n",
       "       'ERK5 MEF2 IC50 Paraza: ERK5 Mef2 IC50 Paraza (nM)',\n",
       "       'ERK5 MEF2 IC50 Paraza: Avg IC50 (nM)',\n",
       "       'ERK5 MEF2 IC50 Paraza: Avg IC50 (nM) Standard Deviation (±)',\n",
       "       'ERK5 MEF2 IC50 Paraza: Avg IC50 (nM) Count',\n",
       "       'Caco2 w/BSA: Papp (A to B) (10-6 cm/s)',\n",
       "       'Caco2 w/BSA: Paap (B to A) (10-6 cm/s)', 'Caco2 w/BSA: Efflux Ratio',\n",
       "       'Caco2 w/BSA: Recovery (A to B) (%)',\n",
       "       'Caco2 w/BSA: Recovery (B to A) (%)', 'CRaf/MEK SPR: KD Ratio',\n",
       "       'CRaf/MEK SPR: KD (M)', 'CRaf/MEK SPR: Chi2 (RU2)',\n",
       "       'FBS Binding (Equilibrium Dialysis): Unbound (%)',\n",
       "       'FBS Binding (Equilibrium Dialysis): Bound (%)',\n",
       "       'FBS Binding (Equilibrium Dialysis): Remaining (%)',\n",
       "       'Hepatocyte stability: Project Name', 'Hepatocyte stability: Species',\n",
       "       'Hepatocyte stability: T1/2 (min)', 'Hepatocyte stability: ER (Ratio)',\n",
       "       'Hepatocyte stability: Clint (mL/min/kg)',\n",
       "       'pERK AsPC-1 (G12D) HTRF (4 hour): IC50 (uM)',\n",
       "       'pERK AsPC-1 (G12D) HTRF (4 hour): Average IC50 (nM)',\n",
       "       'pERK AsPC-1 (G12D) ICW (4 hour): Project Name',\n",
       "       'pERK AsPC-1 (G12D) ICW (4 hour): IC50 (uM)',\n",
       "       'pERK AsPC-1 (G12D) ICW (4 hour): IC95 (uM)',\n",
       "       'pERK AsPC-1 (G12D) ICW (4 hour): Average IC50 (nM)',\n",
       "       'Plasma Protein Binding (dialysis): Species',\n",
       "       'Plasma Protein Binding (dialysis): Unbound (%)',\n",
       "       'Plasma Protein Binding (dialysis): Bound (%)',\n",
       "       'Plasma Protein Binding (ultracentrifugation): Species',\n",
       "       'Plasma Protein Binding (ultracentrifugation): Unbound (%)',\n",
       "       'Plasma Protein Binding (ultracentrifugation): Bound (%)',\n",
       "       'Plasma Protein Binding (ultracentrifugation): Recovery (%)',\n",
       "       'AsPC-1 (G12D) CTG: % inhibition (%)',\n",
       "       'AsPC-1 (G12D) CTG: Average IC50 (nM)',\n",
       "       'G12C KRas *GTP HTRF: IC50 (uM)',\n",
       "       'G12C KRas *GTP HTRF: Average IC50 (nM)',\n",
       "       'G12C KRas *GTP HTRF: Selectivity (G12C/WT)',\n",
       "       'G12D KRas/CRAF GMPPNP HTRF: IC50 (uM)',\n",
       "       'G12D KRas/CRAF GMPPNP HTRF: Average IC50 (nM)',\n",
       "       'G12D KRas/CRAF GMPPNP HTRF: Selectivity (G12D/WT)',\n",
       "       'G12D KRas *GTP HTRF: IC50 (uM)',\n",
       "       'G12D KRas *GTP HTRF: Average IC50 (nM)',\n",
       "       'G12V KRas *GTP HTRF: IC50 (uM)',\n",
       "       'G12V KRas *GTP HTRF: Average IC50 (nM)',\n",
       "       'G12V KRas *GTP HTRF: Selectivity (G12V/WT)',\n",
       "       'MDCK w/BSA & PGP Inhibitor: Papp (A to B) (10-6 cm/s)',\n",
       "       'MDCK w/BSA & PGP Inhibitor: Papp (B to A) (10-6 cm/s)',\n",
       "       'MDCK w/BSA & PGP Inhibitor: Efflux Ratio',\n",
       "       'MDCK w/BSA & PGP Inhibitor: Recovery (A to B) (%)',\n",
       "       'MDCK w/BSA & PGP Inhibitor: Recovery (B to A) (%)',\n",
       "       'Microsomal Stability: Species', 'Microsomal Stability: T1/2 (min)',\n",
       "       'Microsomal Stability: ER (Ratio)',\n",
       "       'Microsomal Stability: Clint (mL/min/kg)', 'PAMPA_egg: Pe',\n",
       "       'PAMPA_egg: Recovery (%)', 'PC9 (WT) CTG: IC50 (uM)',\n",
       "       'PC9 (WT) CTG: IC95 (uM)', 'PC9 (WT) CTG: Average IC50 (nM)',\n",
       "       'pERK PC9 (WT) HTRF (4 hour): IC50 (uM)',\n",
       "       'pERK PC9 (WT) HTRF (4 hour): IC95 (uM)',\n",
       "       'pERK PC9 (WT) HTRF (4 hour): Average IC50 (nM)',\n",
       "       'WT KRas/CRAF GMPPNP HTRF: IC50 (uM)',\n",
       "       'WT KRas/CRAF GMPPNP HTRF: Average IC50 (nM)',\n",
       "       'WT KRas *GTP HTRF: IC50 (uM)', 'WT KRas *GTP HTRF: Average IC50 (nM)'],\n",
       "      dtype='object')"
      ]
     },
     "execution_count": 64,
     "metadata": {},
     "output_type": "execute_result"
    }
   ],
   "source": [
    "df.columns"
   ]
  },
  {
   "cell_type": "code",
   "execution_count": 65,
   "id": "a7e4fd57",
   "metadata": {
    "scrolled": true
   },
   "outputs": [
    {
     "data": {
      "text/html": [
       "<div>\n",
       "<style scoped>\n",
       "    .dataframe tbody tr th:only-of-type {\n",
       "        vertical-align: middle;\n",
       "    }\n",
       "\n",
       "    .dataframe tbody tr th {\n",
       "        vertical-align: top;\n",
       "    }\n",
       "\n",
       "    .dataframe thead th {\n",
       "        text-align: right;\n",
       "    }\n",
       "</style>\n",
       "<table border=\"1\" class=\"dataframe\">\n",
       "  <thead>\n",
       "    <tr style=\"text-align: right;\">\n",
       "      <th></th>\n",
       "      <th>Molecule Name</th>\n",
       "      <th>CDD Number</th>\n",
       "      <th>CXSMILES (CDD Compatible)</th>\n",
       "      <th>log P</th>\n",
       "      <th>log D</th>\n",
       "      <th>Topological polar surface area</th>\n",
       "      <th>ERK5 Biochem IC50: Project Name</th>\n",
       "      <th>ERK5 Biochem IC50: ERK5 Biochem IC50 (nM)</th>\n",
       "      <th>ERK5 Biochem IC50: Avg IC50 (nM)</th>\n",
       "      <th>ERK5 Biochem IC50: Avg IC50 (nM) Standard Deviation (±)</th>\n",
       "      <th>...</th>\n",
       "      <th>PC9 (WT) CTG: IC50 (uM)</th>\n",
       "      <th>PC9 (WT) CTG: IC95 (uM)</th>\n",
       "      <th>PC9 (WT) CTG: Average IC50 (nM)</th>\n",
       "      <th>pERK PC9 (WT) HTRF (4 hour): IC50 (uM)</th>\n",
       "      <th>pERK PC9 (WT) HTRF (4 hour): IC95 (uM)</th>\n",
       "      <th>pERK PC9 (WT) HTRF (4 hour): Average IC50 (nM)</th>\n",
       "      <th>WT KRas/CRAF GMPPNP HTRF: IC50 (uM)</th>\n",
       "      <th>WT KRas/CRAF GMPPNP HTRF: Average IC50 (nM)</th>\n",
       "      <th>WT KRas *GTP HTRF: IC50 (uM)</th>\n",
       "      <th>WT KRas *GTP HTRF: Average IC50 (nM)</th>\n",
       "    </tr>\n",
       "  </thead>\n",
       "  <tbody>\n",
       "    <tr>\n",
       "      <th>0</th>\n",
       "      <td>IK-0013784</td>\n",
       "      <td>NaN</td>\n",
       "      <td>CNS(=O)(=O)NC1=CC(F)=C(CN2CC3=C(OC2=O)C=C(OC2=...</td>\n",
       "      <td>2.47</td>\n",
       "      <td>2.47</td>\n",
       "      <td>109.86</td>\n",
       "      <td>NaN</td>\n",
       "      <td>NaN</td>\n",
       "      <td>NaN</td>\n",
       "      <td>NaN</td>\n",
       "      <td>...</td>\n",
       "      <td>NaN</td>\n",
       "      <td>NaN</td>\n",
       "      <td>NaN</td>\n",
       "      <td>NaN</td>\n",
       "      <td>NaN</td>\n",
       "      <td>NaN</td>\n",
       "      <td>NaN</td>\n",
       "      <td>NaN</td>\n",
       "      <td>NaN</td>\n",
       "      <td>NaN</td>\n",
       "    </tr>\n",
       "    <tr>\n",
       "      <th>1</th>\n",
       "      <td>IK-0013783</td>\n",
       "      <td>NaN</td>\n",
       "      <td>NS(=O)(=O)NC1=CC(F)=C(CN2CC3=C(OC2=O)C=C(OC2=N...</td>\n",
       "      <td>2.25</td>\n",
       "      <td>2.25</td>\n",
       "      <td>123.85</td>\n",
       "      <td>NaN</td>\n",
       "      <td>NaN</td>\n",
       "      <td>NaN</td>\n",
       "      <td>NaN</td>\n",
       "      <td>...</td>\n",
       "      <td>NaN</td>\n",
       "      <td>NaN</td>\n",
       "      <td>NaN</td>\n",
       "      <td>NaN</td>\n",
       "      <td>NaN</td>\n",
       "      <td>NaN</td>\n",
       "      <td>NaN</td>\n",
       "      <td>NaN</td>\n",
       "      <td>NaN</td>\n",
       "      <td>NaN</td>\n",
       "    </tr>\n",
       "    <tr>\n",
       "      <th>2</th>\n",
       "      <td>IK-0013782</td>\n",
       "      <td>NaN</td>\n",
       "      <td>CNS(=O)(=O)NC1=NC=CC(CN2[C@@H](C)C3=C(OC2=O)C=...</td>\n",
       "      <td>2.41</td>\n",
       "      <td>2.40</td>\n",
       "      <td>122.75</td>\n",
       "      <td>NaN</td>\n",
       "      <td>NaN</td>\n",
       "      <td>NaN</td>\n",
       "      <td>NaN</td>\n",
       "      <td>...</td>\n",
       "      <td>NaN</td>\n",
       "      <td>NaN</td>\n",
       "      <td>NaN</td>\n",
       "      <td>NaN</td>\n",
       "      <td>NaN</td>\n",
       "      <td>NaN</td>\n",
       "      <td>NaN</td>\n",
       "      <td>NaN</td>\n",
       "      <td>NaN</td>\n",
       "      <td>NaN</td>\n",
       "    </tr>\n",
       "    <tr>\n",
       "      <th>3</th>\n",
       "      <td>IK-0013781</td>\n",
       "      <td>NaN</td>\n",
       "      <td>CNS(=O)(=O)NC1=NC=CC(CN2[C@@H](C)C3=C(OC2=O)C(...</td>\n",
       "      <td>2.41</td>\n",
       "      <td>2.40</td>\n",
       "      <td>122.75</td>\n",
       "      <td>NaN</td>\n",
       "      <td>NaN</td>\n",
       "      <td>NaN</td>\n",
       "      <td>NaN</td>\n",
       "      <td>...</td>\n",
       "      <td>NaN</td>\n",
       "      <td>NaN</td>\n",
       "      <td>NaN</td>\n",
       "      <td>NaN</td>\n",
       "      <td>NaN</td>\n",
       "      <td>NaN</td>\n",
       "      <td>NaN</td>\n",
       "      <td>NaN</td>\n",
       "      <td>NaN</td>\n",
       "      <td>NaN</td>\n",
       "    </tr>\n",
       "    <tr>\n",
       "      <th>4</th>\n",
       "      <td>IK-0013780</td>\n",
       "      <td>NaN</td>\n",
       "      <td>CNS(=O)(=O)NC1=C(F)C(=CC=C1)[C@H](C)N1[C@@H](C...</td>\n",
       "      <td>3.31</td>\n",
       "      <td>3.30</td>\n",
       "      <td>109.86</td>\n",
       "      <td>NaN</td>\n",
       "      <td>NaN</td>\n",
       "      <td>NaN</td>\n",
       "      <td>NaN</td>\n",
       "      <td>...</td>\n",
       "      <td>NaN</td>\n",
       "      <td>NaN</td>\n",
       "      <td>NaN</td>\n",
       "      <td>NaN</td>\n",
       "      <td>NaN</td>\n",
       "      <td>NaN</td>\n",
       "      <td>NaN</td>\n",
       "      <td>NaN</td>\n",
       "      <td>NaN</td>\n",
       "      <td>NaN</td>\n",
       "    </tr>\n",
       "    <tr>\n",
       "      <th>5</th>\n",
       "      <td>IK-0013779</td>\n",
       "      <td>NaN</td>\n",
       "      <td>CNS(=O)(=O)NC1=C(F)C(=CC=C1)[C@H](C)N1[C@H](C)...</td>\n",
       "      <td>3.31</td>\n",
       "      <td>3.30</td>\n",
       "      <td>109.86</td>\n",
       "      <td>NaN</td>\n",
       "      <td>NaN</td>\n",
       "      <td>NaN</td>\n",
       "      <td>NaN</td>\n",
       "      <td>...</td>\n",
       "      <td>NaN</td>\n",
       "      <td>NaN</td>\n",
       "      <td>NaN</td>\n",
       "      <td>NaN</td>\n",
       "      <td>NaN</td>\n",
       "      <td>NaN</td>\n",
       "      <td>NaN</td>\n",
       "      <td>NaN</td>\n",
       "      <td>NaN</td>\n",
       "      <td>NaN</td>\n",
       "    </tr>\n",
       "    <tr>\n",
       "      <th>6</th>\n",
       "      <td>IK-0013759</td>\n",
       "      <td>NaN</td>\n",
       "      <td>CNS(=O)(=O)NC1=NC=CC(CN2CC3=C(OC2=O)C=C(OC2=NC...</td>\n",
       "      <td>1.85</td>\n",
       "      <td>1.84</td>\n",
       "      <td>122.75</td>\n",
       "      <td>NaN</td>\n",
       "      <td>NaN</td>\n",
       "      <td>NaN</td>\n",
       "      <td>NaN</td>\n",
       "      <td>...</td>\n",
       "      <td>NaN</td>\n",
       "      <td>NaN</td>\n",
       "      <td>NaN</td>\n",
       "      <td>NaN</td>\n",
       "      <td>NaN</td>\n",
       "      <td>NaN</td>\n",
       "      <td>NaN</td>\n",
       "      <td>NaN</td>\n",
       "      <td>NaN</td>\n",
       "      <td>NaN</td>\n",
       "    </tr>\n",
       "    <tr>\n",
       "      <th>7</th>\n",
       "      <td>IK-0013759</td>\n",
       "      <td>NaN</td>\n",
       "      <td>CNS(=O)(=O)NC1=NC=CC(CN2CC3=C(OC2=O)C=C(OC2=NC...</td>\n",
       "      <td>1.85</td>\n",
       "      <td>1.84</td>\n",
       "      <td>122.75</td>\n",
       "      <td>NaN</td>\n",
       "      <td>NaN</td>\n",
       "      <td>NaN</td>\n",
       "      <td>NaN</td>\n",
       "      <td>...</td>\n",
       "      <td>NaN</td>\n",
       "      <td>NaN</td>\n",
       "      <td>NaN</td>\n",
       "      <td>NaN</td>\n",
       "      <td>NaN</td>\n",
       "      <td>NaN</td>\n",
       "      <td>NaN</td>\n",
       "      <td>NaN</td>\n",
       "      <td>NaN</td>\n",
       "      <td>NaN</td>\n",
       "    </tr>\n",
       "    <tr>\n",
       "      <th>8</th>\n",
       "      <td>IK-0013759</td>\n",
       "      <td>NaN</td>\n",
       "      <td>CNS(=O)(=O)NC1=NC=CC(CN2CC3=C(OC2=O)C=C(OC2=NC...</td>\n",
       "      <td>1.85</td>\n",
       "      <td>1.84</td>\n",
       "      <td>122.75</td>\n",
       "      <td>NaN</td>\n",
       "      <td>NaN</td>\n",
       "      <td>NaN</td>\n",
       "      <td>NaN</td>\n",
       "      <td>...</td>\n",
       "      <td>NaN</td>\n",
       "      <td>NaN</td>\n",
       "      <td>NaN</td>\n",
       "      <td>NaN</td>\n",
       "      <td>NaN</td>\n",
       "      <td>NaN</td>\n",
       "      <td>NaN</td>\n",
       "      <td>NaN</td>\n",
       "      <td>NaN</td>\n",
       "      <td>NaN</td>\n",
       "    </tr>\n",
       "    <tr>\n",
       "      <th>9</th>\n",
       "      <td>IK-0013759</td>\n",
       "      <td>NaN</td>\n",
       "      <td>CNS(=O)(=O)NC1=NC=CC(CN2CC3=C(OC2=O)C=C(OC2=NC...</td>\n",
       "      <td>1.85</td>\n",
       "      <td>1.84</td>\n",
       "      <td>122.75</td>\n",
       "      <td>NaN</td>\n",
       "      <td>NaN</td>\n",
       "      <td>NaN</td>\n",
       "      <td>NaN</td>\n",
       "      <td>...</td>\n",
       "      <td>NaN</td>\n",
       "      <td>NaN</td>\n",
       "      <td>NaN</td>\n",
       "      <td>NaN</td>\n",
       "      <td>NaN</td>\n",
       "      <td>NaN</td>\n",
       "      <td>NaN</td>\n",
       "      <td>NaN</td>\n",
       "      <td>NaN</td>\n",
       "      <td>NaN</td>\n",
       "    </tr>\n",
       "  </tbody>\n",
       "</table>\n",
       "<p>10 rows × 93 columns</p>\n",
       "</div>"
      ],
      "text/plain": [
       "  Molecule Name CDD Number                          CXSMILES (CDD Compatible)  \\\n",
       "0    IK-0013784        NaN  CNS(=O)(=O)NC1=CC(F)=C(CN2CC3=C(OC2=O)C=C(OC2=...   \n",
       "1    IK-0013783        NaN  NS(=O)(=O)NC1=CC(F)=C(CN2CC3=C(OC2=O)C=C(OC2=N...   \n",
       "2    IK-0013782        NaN  CNS(=O)(=O)NC1=NC=CC(CN2[C@@H](C)C3=C(OC2=O)C=...   \n",
       "3    IK-0013781        NaN  CNS(=O)(=O)NC1=NC=CC(CN2[C@@H](C)C3=C(OC2=O)C(...   \n",
       "4    IK-0013780        NaN  CNS(=O)(=O)NC1=C(F)C(=CC=C1)[C@H](C)N1[C@@H](C...   \n",
       "5    IK-0013779        NaN  CNS(=O)(=O)NC1=C(F)C(=CC=C1)[C@H](C)N1[C@H](C)...   \n",
       "6    IK-0013759        NaN  CNS(=O)(=O)NC1=NC=CC(CN2CC3=C(OC2=O)C=C(OC2=NC...   \n",
       "7    IK-0013759        NaN  CNS(=O)(=O)NC1=NC=CC(CN2CC3=C(OC2=O)C=C(OC2=NC...   \n",
       "8    IK-0013759        NaN  CNS(=O)(=O)NC1=NC=CC(CN2CC3=C(OC2=O)C=C(OC2=NC...   \n",
       "9    IK-0013759        NaN  CNS(=O)(=O)NC1=NC=CC(CN2CC3=C(OC2=O)C=C(OC2=NC...   \n",
       "\n",
       "   log P  log D  Topological polar surface area  \\\n",
       "0   2.47   2.47                          109.86   \n",
       "1   2.25   2.25                          123.85   \n",
       "2   2.41   2.40                          122.75   \n",
       "3   2.41   2.40                          122.75   \n",
       "4   3.31   3.30                          109.86   \n",
       "5   3.31   3.30                          109.86   \n",
       "6   1.85   1.84                          122.75   \n",
       "7   1.85   1.84                          122.75   \n",
       "8   1.85   1.84                          122.75   \n",
       "9   1.85   1.84                          122.75   \n",
       "\n",
       "  ERK5 Biochem IC50: Project Name  ERK5 Biochem IC50: ERK5 Biochem IC50 (nM)  \\\n",
       "0                             NaN                                        NaN   \n",
       "1                             NaN                                        NaN   \n",
       "2                             NaN                                        NaN   \n",
       "3                             NaN                                        NaN   \n",
       "4                             NaN                                        NaN   \n",
       "5                             NaN                                        NaN   \n",
       "6                             NaN                                        NaN   \n",
       "7                             NaN                                        NaN   \n",
       "8                             NaN                                        NaN   \n",
       "9                             NaN                                        NaN   \n",
       "\n",
       "   ERK5 Biochem IC50: Avg IC50 (nM)  \\\n",
       "0                               NaN   \n",
       "1                               NaN   \n",
       "2                               NaN   \n",
       "3                               NaN   \n",
       "4                               NaN   \n",
       "5                               NaN   \n",
       "6                               NaN   \n",
       "7                               NaN   \n",
       "8                               NaN   \n",
       "9                               NaN   \n",
       "\n",
       "   ERK5 Biochem IC50: Avg IC50 (nM) Standard Deviation (±)  ...  \\\n",
       "0                                                NaN        ...   \n",
       "1                                                NaN        ...   \n",
       "2                                                NaN        ...   \n",
       "3                                                NaN        ...   \n",
       "4                                                NaN        ...   \n",
       "5                                                NaN        ...   \n",
       "6                                                NaN        ...   \n",
       "7                                                NaN        ...   \n",
       "8                                                NaN        ...   \n",
       "9                                                NaN        ...   \n",
       "\n",
       "   PC9 (WT) CTG: IC50 (uM) PC9 (WT) CTG: IC95 (uM)  \\\n",
       "0                      NaN                     NaN   \n",
       "1                      NaN                     NaN   \n",
       "2                      NaN                     NaN   \n",
       "3                      NaN                     NaN   \n",
       "4                      NaN                     NaN   \n",
       "5                      NaN                     NaN   \n",
       "6                      NaN                     NaN   \n",
       "7                      NaN                     NaN   \n",
       "8                      NaN                     NaN   \n",
       "9                      NaN                     NaN   \n",
       "\n",
       "  PC9 (WT) CTG: Average IC50 (nM)  pERK PC9 (WT) HTRF (4 hour): IC50 (uM)  \\\n",
       "0                             NaN                                     NaN   \n",
       "1                             NaN                                     NaN   \n",
       "2                             NaN                                     NaN   \n",
       "3                             NaN                                     NaN   \n",
       "4                             NaN                                     NaN   \n",
       "5                             NaN                                     NaN   \n",
       "6                             NaN                                     NaN   \n",
       "7                             NaN                                     NaN   \n",
       "8                             NaN                                     NaN   \n",
       "9                             NaN                                     NaN   \n",
       "\n",
       "  pERK PC9 (WT) HTRF (4 hour): IC95 (uM)  \\\n",
       "0                                    NaN   \n",
       "1                                    NaN   \n",
       "2                                    NaN   \n",
       "3                                    NaN   \n",
       "4                                    NaN   \n",
       "5                                    NaN   \n",
       "6                                    NaN   \n",
       "7                                    NaN   \n",
       "8                                    NaN   \n",
       "9                                    NaN   \n",
       "\n",
       "   pERK PC9 (WT) HTRF (4 hour): Average IC50 (nM)  \\\n",
       "0                                             NaN   \n",
       "1                                             NaN   \n",
       "2                                             NaN   \n",
       "3                                             NaN   \n",
       "4                                             NaN   \n",
       "5                                             NaN   \n",
       "6                                             NaN   \n",
       "7                                             NaN   \n",
       "8                                             NaN   \n",
       "9                                             NaN   \n",
       "\n",
       "   WT KRas/CRAF GMPPNP HTRF: IC50 (uM)  \\\n",
       "0                                  NaN   \n",
       "1                                  NaN   \n",
       "2                                  NaN   \n",
       "3                                  NaN   \n",
       "4                                  NaN   \n",
       "5                                  NaN   \n",
       "6                                  NaN   \n",
       "7                                  NaN   \n",
       "8                                  NaN   \n",
       "9                                  NaN   \n",
       "\n",
       "   WT KRas/CRAF GMPPNP HTRF: Average IC50 (nM)  WT KRas *GTP HTRF: IC50 (uM)  \\\n",
       "0                                          NaN                           NaN   \n",
       "1                                          NaN                           NaN   \n",
       "2                                          NaN                           NaN   \n",
       "3                                          NaN                           NaN   \n",
       "4                                          NaN                           NaN   \n",
       "5                                          NaN                           NaN   \n",
       "6                                          NaN                           NaN   \n",
       "7                                          NaN                           NaN   \n",
       "8                                          NaN                           NaN   \n",
       "9                                          NaN                           NaN   \n",
       "\n",
       "   WT KRas *GTP HTRF: Average IC50 (nM)  \n",
       "0                                   NaN  \n",
       "1                                   NaN  \n",
       "2                                   NaN  \n",
       "3                                   NaN  \n",
       "4                                   NaN  \n",
       "5                                   NaN  \n",
       "6                                   NaN  \n",
       "7                                   NaN  \n",
       "8                                   NaN  \n",
       "9                                   NaN  \n",
       "\n",
       "[10 rows x 93 columns]"
      ]
     },
     "execution_count": 65,
     "metadata": {},
     "output_type": "execute_result"
    }
   ],
   "source": [
    "df[:10]"
   ]
  },
  {
   "cell_type": "code",
   "execution_count": 66,
   "id": "0348ae67",
   "metadata": {
    "scrolled": true
   },
   "outputs": [
    {
     "data": {
      "text/plain": [
       "Index(['Molecule Name', 'CDD Number', 'CXSMILES (CDD Compatible)', 'log P',\n",
       "       'log D', 'Topological polar surface area',\n",
       "       'ERK5 Biochem IC50: Project Name',\n",
       "       'ERK5 Biochem IC50: ERK5 Biochem IC50 (nM)',\n",
       "       'ERK5 Biochem IC50: Avg IC50 (nM)',\n",
       "       'ERK5 Biochem IC50: Avg IC50 (nM) Standard Deviation (±)',\n",
       "       'ERK5 Biochem IC50: Avg IC50 (nM) Count', 'hERG: IC50 (uM)',\n",
       "       'Kinetic Solubility (FaSSIF): Kinetic Solubility (uM)',\n",
       "       'Measured logD: logD', 'Pharmacokinetic: Species',\n",
       "       'Pharmacokinetic: Cmax (ng/mL)', 'Pharmacokinetic: Tmax (h)',\n",
       "       'Pharmacokinetic: T1/2 (h)', 'Pharmacokinetic: Vdss (L/kg)',\n",
       "       'Pharmacokinetic: Cl (mL/min/kg)',\n",
       "       'Pharmacokinetic: AUC 0-last (ng*h/mL)',\n",
       "       'Pharmacokinetic: Bioavailability (%)', 'Plasma Stability: Species',\n",
       "       'Plasma Stability: Parent remaining at 120 min (%)',\n",
       "       'Plasma Stability: T1/2', 'ERK5 MEF2 IC50 Paraza: Project Name',\n",
       "       'ERK5 MEF2 IC50 Paraza: ERK5 Mef2 IC50 Paraza (nM)',\n",
       "       'ERK5 MEF2 IC50 Paraza: Avg IC50 (nM)',\n",
       "       'ERK5 MEF2 IC50 Paraza: Avg IC50 (nM) Standard Deviation (±)',\n",
       "       'ERK5 MEF2 IC50 Paraza: Avg IC50 (nM) Count',\n",
       "       'Caco2 w/BSA: Papp (A to B) (10-6 cm/s)',\n",
       "       'Caco2 w/BSA: Paap (B to A) (10-6 cm/s)', 'Caco2 w/BSA: Efflux Ratio',\n",
       "       'Caco2 w/BSA: Recovery (A to B) (%)',\n",
       "       'Caco2 w/BSA: Recovery (B to A) (%)', 'CRaf/MEK SPR: KD Ratio',\n",
       "       'CRaf/MEK SPR: KD (M)', 'CRaf/MEK SPR: Chi2 (RU2)',\n",
       "       'FBS Binding (Equilibrium Dialysis): Unbound (%)',\n",
       "       'FBS Binding (Equilibrium Dialysis): Bound (%)',\n",
       "       'FBS Binding (Equilibrium Dialysis): Remaining (%)',\n",
       "       'Hepatocyte stability: Project Name', 'Hepatocyte stability: Species',\n",
       "       'Hepatocyte stability: T1/2 (min)', 'Hepatocyte stability: ER (Ratio)',\n",
       "       'Hepatocyte stability: Clint (mL/min/kg)',\n",
       "       'pERK AsPC-1 (G12D) HTRF (4 hour): IC50 (uM)',\n",
       "       'pERK AsPC-1 (G12D) HTRF (4 hour): Average IC50 (nM)',\n",
       "       'pERK AsPC-1 (G12D) ICW (4 hour): Project Name',\n",
       "       'pERK AsPC-1 (G12D) ICW (4 hour): IC50 (uM)',\n",
       "       'pERK AsPC-1 (G12D) ICW (4 hour): IC95 (uM)',\n",
       "       'pERK AsPC-1 (G12D) ICW (4 hour): Average IC50 (nM)',\n",
       "       'Plasma Protein Binding (dialysis): Species',\n",
       "       'Plasma Protein Binding (dialysis): Unbound (%)',\n",
       "       'Plasma Protein Binding (dialysis): Bound (%)',\n",
       "       'Plasma Protein Binding (ultracentrifugation): Species',\n",
       "       'Plasma Protein Binding (ultracentrifugation): Unbound (%)',\n",
       "       'Plasma Protein Binding (ultracentrifugation): Bound (%)',\n",
       "       'Plasma Protein Binding (ultracentrifugation): Recovery (%)',\n",
       "       'AsPC-1 (G12D) CTG: % inhibition (%)',\n",
       "       'AsPC-1 (G12D) CTG: Average IC50 (nM)',\n",
       "       'G12C KRas *GTP HTRF: IC50 (uM)',\n",
       "       'G12C KRas *GTP HTRF: Average IC50 (nM)',\n",
       "       'G12C KRas *GTP HTRF: Selectivity (G12C/WT)',\n",
       "       'G12D KRas/CRAF GMPPNP HTRF: IC50 (uM)',\n",
       "       'G12D KRas/CRAF GMPPNP HTRF: Average IC50 (nM)',\n",
       "       'G12D KRas/CRAF GMPPNP HTRF: Selectivity (G12D/WT)',\n",
       "       'G12D KRas *GTP HTRF: IC50 (uM)',\n",
       "       'G12D KRas *GTP HTRF: Average IC50 (nM)',\n",
       "       'G12V KRas *GTP HTRF: IC50 (uM)',\n",
       "       'G12V KRas *GTP HTRF: Average IC50 (nM)',\n",
       "       'G12V KRas *GTP HTRF: Selectivity (G12V/WT)',\n",
       "       'MDCK w/BSA & PGP Inhibitor: Papp (A to B) (10-6 cm/s)',\n",
       "       'MDCK w/BSA & PGP Inhibitor: Papp (B to A) (10-6 cm/s)',\n",
       "       'MDCK w/BSA & PGP Inhibitor: Efflux Ratio',\n",
       "       'MDCK w/BSA & PGP Inhibitor: Recovery (A to B) (%)',\n",
       "       'MDCK w/BSA & PGP Inhibitor: Recovery (B to A) (%)',\n",
       "       'Microsomal Stability: Species', 'Microsomal Stability: T1/2 (min)',\n",
       "       'Microsomal Stability: ER (Ratio)',\n",
       "       'Microsomal Stability: Clint (mL/min/kg)', 'PAMPA_egg: Pe',\n",
       "       'PAMPA_egg: Recovery (%)', 'PC9 (WT) CTG: IC50 (uM)',\n",
       "       'PC9 (WT) CTG: IC95 (uM)', 'PC9 (WT) CTG: Average IC50 (nM)',\n",
       "       'pERK PC9 (WT) HTRF (4 hour): IC50 (uM)',\n",
       "       'pERK PC9 (WT) HTRF (4 hour): IC95 (uM)',\n",
       "       'pERK PC9 (WT) HTRF (4 hour): Average IC50 (nM)',\n",
       "       'WT KRas/CRAF GMPPNP HTRF: IC50 (uM)',\n",
       "       'WT KRas/CRAF GMPPNP HTRF: Average IC50 (nM)',\n",
       "       'WT KRas *GTP HTRF: IC50 (uM)', 'WT KRas *GTP HTRF: Average IC50 (nM)'],\n",
       "      dtype='object')"
      ]
     },
     "execution_count": 66,
     "metadata": {},
     "output_type": "execute_result"
    }
   ],
   "source": [
    "df.columns"
   ]
  },
  {
   "cell_type": "code",
   "execution_count": 67,
   "id": "c3fcb673",
   "metadata": {},
   "outputs": [],
   "source": [
    "# pERK AsPC-1 (G12D) HTRF (4 hour): IC50 (uM)"
   ]
  },
  {
   "cell_type": "code",
   "execution_count": 68,
   "id": "8fe36211",
   "metadata": {},
   "outputs": [
    {
     "data": {
      "text/plain": [
       "16         0.476\n",
       "17        > 20.0\n",
       "18        > 20.0\n",
       "19        > 20.0\n",
       "20      2.82E-03\n",
       "          ...   \n",
       "6480     691E-06\n",
       "6481     560E-06\n",
       "6482     416E-06\n",
       "6483     416E-06\n",
       "7621      > 20.0\n",
       "Name: pERK AsPC-1 (G12D) HTRF (4 hour): IC50 (uM), Length: 461, dtype: object"
      ]
     },
     "execution_count": 68,
     "metadata": {},
     "output_type": "execute_result"
    }
   ],
   "source": [
    "df['pERK AsPC-1 (G12D) HTRF (4 hour): IC50 (uM)'].dropna()"
   ]
  },
  {
   "cell_type": "code",
   "execution_count": 69,
   "id": "01700458",
   "metadata": {},
   "outputs": [],
   "source": [
    "cols = ['ERK5 Biochem IC50: Avg IC50 (nM)','hERG: IC50 (uM)',\n",
    "        'Kinetic Solubility (FaSSIF): Kinetic Solubility (uM)',\n",
    "       'Measured logD: logD','Pharmacokinetic: Cmax (ng/mL)','Pharmacokinetic: Tmax (h)',\n",
    "       'Pharmacokinetic: T1/2 (h)', 'Pharmacokinetic: Vdss (L/kg)',\n",
    "       'Pharmacokinetic: Cl (mL/min/kg)',\n",
    "       'Pharmacokinetic: Bioavailability (%)','Plasma Stability: T1/2',\n",
    "       'ERK5 MEF2 IC50 Paraza: Avg IC50 (nM)','Caco2 w/BSA: Papp (A to B) (10-6 cm/s)',\n",
    "       'Caco2 w/BSA: Paap (B to A) (10-6 cm/s)', 'Caco2 w/BSA: Efflux Ratio','CRaf/MEK SPR: KD (M)',\n",
    "       'FBS Binding (Equilibrium Dialysis): Unbound (%)',\n",
    "       'FBS Binding (Equilibrium Dialysis): Bound (%)',\n",
    "       'FBS Binding (Equilibrium Dialysis): Remaining (%)','Hepatocyte stability: T1/2 (min)',\n",
    "        'Hepatocyte stability: ER (Ratio)',\n",
    "       'Hepatocyte stability: Clint (mL/min/kg)','pERK AsPC-1 (G12D) HTRF (4 hour): IC50 (uM)',\n",
    "       'pERK AsPC-1 (G12D) HTRF (4 hour): Average IC50 (nM)','pERK AsPC-1 (G12D) ICW (4 hour): IC50 (uM)',\n",
    "       'pERK AsPC-1 (G12D) ICW (4 hour): IC95 (uM)',\n",
    "       'pERK AsPC-1 (G12D) ICW (4 hour): Average IC50 (nM)','Plasma Protein Binding (dialysis): Unbound (%)',\n",
    "       'Plasma Protein Binding (dialysis): Bound (%)','Plasma Protein Binding ucentri: Unbound (%)',\n",
    "       'Plasma Protein Binding ucentri: Recovery (%)',\n",
    "       'AsPC-1 (G12D) CTG: % inhibition (%)',\n",
    "       'AsPC-1 (G12D) CTG: Average IC50 (nM)',\n",
    "       'G12C KRas *GTP HTRF: IC50 (uM)',\n",
    "       'G12C KRas *GTP HTRF: Average IC50 (nM)','G12C KRas *GTP HTRF: Selectivity (G12C/WT)',\n",
    "       'G12D KRas/CRAF GMPPNP HTRF: IC50 (uM)',\n",
    "       'G12D KRas/CRAF GMPPNP HTRF: Average IC50 (nM)',\n",
    "       'G12D KRas/CRAF GMPPNP HTRF: Selectivity (G12D/WT)',\n",
    "       'G12D KRas *GTP HTRF: IC50 (uM)',\n",
    "       'G12D KRas *GTP HTRF: Average IC50 (nM)',\n",
    "       'G12V KRas *GTP HTRF: IC50 (uM)',\n",
    "       'G12V KRas *GTP HTRF: Average IC50 (nM)',\n",
    "       'G12V KRas *GTP HTRF: Selectivity (G12V/WT)',\n",
    "       'MDCK w/BSA & PGP Inhibitor: Papp (A to B) (10-6 cm/s)',\n",
    "       'MDCK w/BSA & PGP Inhibitor: Papp (B to A) (10-6 cm/s)',\n",
    "       'MDCK w/BSA & PGP Inhibitor: Efflux Ratio',\n",
    "       'MDCK w/BSA & PGP Inhibitor: Recovery (A to B) (%)',\n",
    "       'MDCK w/BSA & PGP Inhibitor: Recovery (B to A) (%)',\n",
    "       'Microsomal Stability: T1/2 (min)',\n",
    "       'Microsomal Stability: ER (Ratio)',\n",
    "       'Microsomal Stability: Clint (mL/min/kg)', 'PAMPA_egg: Pe',\n",
    "       'PAMPA_egg: Recovery (%)', 'PC9 (WT) CTG: IC50 (uM)',\n",
    "       'PC9 (WT) CTG: IC95 (uM)', 'PC9 (WT) CTG: Average IC50 (nM)',\n",
    "       'pERK PC9 (WT) HTRF (4 hour): IC50 (uM)',\n",
    "       'pERK PC9 (WT) HTRF (4 hour): IC95 (uM)',\n",
    "       'pERK PC9 (WT) HTRF (4 hour): Average IC50 (nM)',\n",
    "       'WT KRas/CRAF GMPPNP HTRF: IC50 (uM)',\n",
    "       'WT KRas/CRAF GMPPNP HTRF: Average IC50 (nM)',\n",
    "       'WT KRas *GTP HTRF: Average IC50 (nM)','log P',\n",
    "       'log D', 'Topological polar surface area']"
   ]
  },
  {
   "cell_type": "code",
   "execution_count": 70,
   "id": "ab6aede1",
   "metadata": {},
   "outputs": [],
   "source": [
    "# for x in cols:\n",
    "#     table = \"_\".join([y for y in re.split('[-\\%\\*\\/\\:\\(\\)& ]',x)])\n",
    "#     print(\"<li>\"+table.lower()+\"</li>\")"
   ]
  },
  {
   "cell_type": "code",
   "execution_count": 71,
   "id": "77a5aefe",
   "metadata": {},
   "outputs": [
    {
     "data": {
      "text/plain": [
       "66"
      ]
     },
     "execution_count": 71,
     "metadata": {},
     "output_type": "execute_result"
    }
   ],
   "source": [
    "len(cols)"
   ]
  },
  {
   "cell_type": "code",
   "execution_count": 72,
   "id": "bf222440",
   "metadata": {},
   "outputs": [
    {
     "data": {
      "text/plain": [
       "['log P']"
      ]
     },
     "execution_count": 72,
     "metadata": {},
     "output_type": "execute_result"
    }
   ],
   "source": [
    "cols[63:64]"
   ]
  },
  {
   "cell_type": "code",
   "execution_count": 73,
   "id": "17feeb5b",
   "metadata": {},
   "outputs": [],
   "source": [
    "df.rename(columns = {'Plasma Protein Binding (ultracentrifugation): Unbound (%)' : 'Plasma Protein Binding ucentri: Unbound (%)', \n",
    "                     'Plasma Protein Binding (ultracentrifugation): Recovery (%)' : 'Plasma Protein Binding ucentri: Recovery (%)'}, inplace = True)"
   ]
  },
  {
   "cell_type": "code",
   "execution_count": 74,
   "id": "55a9e415",
   "metadata": {},
   "outputs": [
    {
     "data": {
      "text/plain": [
       "49          0.149\n",
       "51           3.59\n",
       "53         > 10.0\n",
       "55         > 10.0\n",
       "57         > 10.0\n",
       "          ...    \n",
       "5969        0.175\n",
       "6384        0.282\n",
       "6427    < 169E-06\n",
       "6428       > 10.0\n",
       "7621       > 10.0\n",
       "Name: WT KRas *GTP HTRF: IC50 (uM), Length: 353, dtype: object"
      ]
     },
     "execution_count": 74,
     "metadata": {},
     "output_type": "execute_result"
    }
   ],
   "source": [
    "df['WT KRas *GTP HTRF: IC50 (uM)'].dropna()"
   ]
  },
  {
   "cell_type": "code",
   "execution_count": 75,
   "id": "ad336aba",
   "metadata": {},
   "outputs": [],
   "source": [
    "config = {\n",
    "  'user': 'sandeep',\n",
    "  'password': 'sql',\n",
    "  'host': 'localhost',\n",
    "  'database': 'mmpdb',\n",
    "  'raise_on_warnings': True,\n",
    "}\n",
    "\n",
    "link = mysql.connector.connect(**config)"
   ]
  },
  {
   "cell_type": "code",
   "execution_count": 76,
   "id": "5e790932",
   "metadata": {},
   "outputs": [],
   "source": [
    "cnx= mysql.connector.connect(**config)\n",
    "cur = cnx.cursor()"
   ]
  },
  {
   "cell_type": "markdown",
   "id": "daa49059",
   "metadata": {},
   "source": [
    "# Drop all tables and start fresh"
   ]
  },
  {
   "cell_type": "code",
   "execution_count": 77,
   "id": "4c2d6d77",
   "metadata": {},
   "outputs": [],
   "source": [
    "# i = 1\n",
    "# for x in cols:\n",
    "    \n",
    "# #     print(\"The columns number = {}\".format(i))\n",
    "#     i = i + 1\n",
    "\n",
    "#     table = \"_\".join([y for y in re.split('[-\\%\\*\\/\\:\\(\\)& ]',x)])\n",
    "# #     print(table)\n",
    "#     try:\n",
    "#         sql = 'DROP TABLE IF EXISTS {} CASCADE;'.format(table)\n",
    "#         cur.execute(sql)\n",
    "#     except:\n",
    "#         None\n",
    "    \n",
    "    \n",
    "    \n",
    "# sql = 'DROP TABLE IF EXISTS transform CASCADE;'\n",
    "# print(sql)\n",
    "# cur.execute(sql)\n",
    "# sql = 'DROP TABLE IF EXISTS transform_left CASCADE;'\n",
    "# print(sql)\n",
    "# cur.execute(sql)\n",
    "# sql = 'DROP TABLE IF EXISTS context CASCADE;'\n",
    "# print(sql)\n",
    "# cur.execute(sql)\n",
    "# sql = 'DROP TABLE IF EXISTS context_type CASCADE;'\n",
    "# print(sql)\n",
    "# cur.execute(sql)\n",
    "# sql = 'DROP TABLE IF EXISTS mmp CASCADE;'\n",
    "# print(sql)\n",
    "# cur.execute(sql)\n",
    "\n",
    "# cur.execute('DROP TABLE IF EXISTS ikenacomps')\n"
   ]
  },
  {
   "cell_type": "code",
   "execution_count": 78,
   "id": "658caca1",
   "metadata": {},
   "outputs": [],
   "source": [
    "# sql = 'CREATE TABLE if not exists ikenacomps (id integer not null auto_increment, '\\\n",
    "#       'Molecule_id varchar(128) unique, '\\\n",
    "#       'CXCSmiles varchar(512), '\\\n",
    "#      'primary key(`id`)) ENGINE=InnoDB'\n",
    "# print(sql)\n",
    "# cur.execute(sql)"
   ]
  },
  {
   "cell_type": "code",
   "execution_count": 79,
   "id": "24a450e8",
   "metadata": {},
   "outputs": [],
   "source": [
    "# id_s = []\n",
    "# for _, x in df.iterrows():\n",
    "    \n",
    "#     if (x['Molecule Name'] not in id_s):\n",
    "        \n",
    "#         sql = 'INSERT INTO ikenacomps (Molecule_id, CXCSmiles ) ' \\\n",
    "#             ' VALUES (%s, %s)'\n",
    "#         cur.execute(sql,(x['Molecule Name'],x['CXSMILES (CDD Compatible)']\n",
    "#                         ))\n",
    "#         id_s.append(x['Molecule Name'])"
   ]
  },
  {
   "cell_type": "code",
   "execution_count": 80,
   "id": "f388e47f",
   "metadata": {},
   "outputs": [],
   "source": [
    "def calc_aggregation(group,name):\n",
    "    name_mean = name+\"_mean\";\n",
    "    name_count = name+\"_count\";\n",
    "    name_std = name+\"_std\";\n",
    "    name_data = name+\"_data\"\n",
    "#     print([re.sub('[><= ]+ ','',str(x)) for x in group[name]])\n",
    "    out = [float(re.sub('[><= ]+ ','',str(x))) for x in group[name]]\n",
    "    group['mean'] = \"{:0.2f}\".format(np.mean(out))\n",
    "    group['count'] = np.size(out)\n",
    "#     group['std_dev']= np.std(out,ddof=1)\n",
    "    group['data'] = \";\".join([str(x) for x in group[name]])\n",
    "    return group "
   ]
  },
  {
   "cell_type": "code",
   "execution_count": 81,
   "id": "becb646d",
   "metadata": {
    "scrolled": true
   },
   "outputs": [
    {
     "data": {
      "text/plain": [
       "0        6671.0\n",
       "1       47282.0\n",
       "2        6227.0\n",
       "3        6120.0\n",
       "4        5416.0\n",
       "         ...   \n",
       "8392     2681.0\n",
       "8393    10892.0\n",
       "8394     2750.0\n",
       "8395      784.0\n",
       "8396        NaN\n",
       "Name: Pharmacokinetic: AUC 0-last (ng*h/mL), Length: 8397, dtype: float64"
      ]
     },
     "execution_count": 81,
     "metadata": {},
     "output_type": "execute_result"
    }
   ],
   "source": [
    "df['Pharmacokinetic: AUC 0-last (ng*h/mL)']"
   ]
  },
  {
   "cell_type": "code",
   "execution_count": 82,
   "id": "05688c8d",
   "metadata": {
    "scrolled": true
   },
   "outputs": [
    {
     "name": "stdout",
     "output_type": "stream",
     "text": [
      "The columns number = 1\n",
      "CREATE TABLE if not exists ERK5_Biochem_IC50__Avg_IC50__nM_ (id integer not null auto_increment, Molecule_id varchar(128) unique, ERK5_Biochem_IC50__Avg_IC50__nM_ varchar(20), mean double, count varchar(200), data text, mol_id integer,constraint foreign key (mol_id) references ikenacomps(id) on delete cascade on update cascade, primary key(id)) ENGINE=InnoDB\n"
     ]
    },
    {
     "name": "stderr",
     "output_type": "stream",
     "text": [
      "C:\\ProgramData\\Anaconda3\\envs\\my-rdkit-env\\lib\\site-packages\\ipykernel_launcher.py:21: SettingWithCopyWarning: \n",
      "A value is trying to be set on a copy of a slice from a DataFrame\n",
      "\n",
      "See the caveats in the documentation: https://pandas.pydata.org/pandas-docs/stable/user_guide/indexing.html#returning-a-view-versus-a-copy\n"
     ]
    },
    {
     "name": "stdout",
     "output_type": "stream",
     "text": [
      "The columns number = 2\n",
      "CREATE TABLE if not exists hERG__IC50__uM_ (id integer not null auto_increment, Molecule_id varchar(128) unique, hERG__IC50__uM_ varchar(20), mean double, count varchar(200), data text, mol_id integer,constraint foreign key (mol_id) references ikenacomps(id) on delete cascade on update cascade, primary key(id)) ENGINE=InnoDB\n"
     ]
    },
    {
     "name": "stderr",
     "output_type": "stream",
     "text": [
      "C:\\ProgramData\\Anaconda3\\envs\\my-rdkit-env\\lib\\site-packages\\ipykernel_launcher.py:21: SettingWithCopyWarning: \n",
      "A value is trying to be set on a copy of a slice from a DataFrame\n",
      "\n",
      "See the caveats in the documentation: https://pandas.pydata.org/pandas-docs/stable/user_guide/indexing.html#returning-a-view-versus-a-copy\n"
     ]
    },
    {
     "name": "stdout",
     "output_type": "stream",
     "text": [
      "The columns number = 3\n",
      "CREATE TABLE if not exists Kinetic_Solubility__FaSSIF___Kinetic_Solubility__uM_ (id integer not null auto_increment, Molecule_id varchar(128) unique, Kinetic_Solubility__FaSSIF___Kinetic_Solubility__uM_ varchar(20), mean double, count varchar(200), data text, mol_id integer,constraint foreign key (mol_id) references ikenacomps(id) on delete cascade on update cascade, primary key(id)) ENGINE=InnoDB\n"
     ]
    },
    {
     "name": "stderr",
     "output_type": "stream",
     "text": [
      "C:\\ProgramData\\Anaconda3\\envs\\my-rdkit-env\\lib\\site-packages\\ipykernel_launcher.py:21: SettingWithCopyWarning: \n",
      "A value is trying to be set on a copy of a slice from a DataFrame\n",
      "\n",
      "See the caveats in the documentation: https://pandas.pydata.org/pandas-docs/stable/user_guide/indexing.html#returning-a-view-versus-a-copy\n"
     ]
    },
    {
     "name": "stdout",
     "output_type": "stream",
     "text": [
      "The columns number = 4\n",
      "CREATE TABLE if not exists Measured_logD__logD (id integer not null auto_increment, Molecule_id varchar(128) unique, Measured_logD__logD varchar(20), mean double, count varchar(200), data text, mol_id integer,constraint foreign key (mol_id) references ikenacomps(id) on delete cascade on update cascade, primary key(id)) ENGINE=InnoDB\n"
     ]
    },
    {
     "name": "stderr",
     "output_type": "stream",
     "text": [
      "C:\\ProgramData\\Anaconda3\\envs\\my-rdkit-env\\lib\\site-packages\\ipykernel_launcher.py:21: SettingWithCopyWarning: \n",
      "A value is trying to be set on a copy of a slice from a DataFrame\n",
      "\n",
      "See the caveats in the documentation: https://pandas.pydata.org/pandas-docs/stable/user_guide/indexing.html#returning-a-view-versus-a-copy\n"
     ]
    },
    {
     "name": "stdout",
     "output_type": "stream",
     "text": [
      "The columns number = 5\n",
      "CREATE TABLE if not exists Pharmacokinetic__Cmax__ng_mL_ (id integer not null auto_increment, Molecule_id varchar(128) unique, Pharmacokinetic__Cmax__ng_mL_ varchar(20), mean double, count varchar(200), data text, mol_id integer,constraint foreign key (mol_id) references ikenacomps(id) on delete cascade on update cascade, primary key(id)) ENGINE=InnoDB\n"
     ]
    },
    {
     "name": "stderr",
     "output_type": "stream",
     "text": [
      "C:\\ProgramData\\Anaconda3\\envs\\my-rdkit-env\\lib\\site-packages\\ipykernel_launcher.py:21: SettingWithCopyWarning: \n",
      "A value is trying to be set on a copy of a slice from a DataFrame\n",
      "\n",
      "See the caveats in the documentation: https://pandas.pydata.org/pandas-docs/stable/user_guide/indexing.html#returning-a-view-versus-a-copy\n"
     ]
    },
    {
     "name": "stdout",
     "output_type": "stream",
     "text": [
      "The columns number = 6\n",
      "CREATE TABLE if not exists Pharmacokinetic__Tmax__h_ (id integer not null auto_increment, Molecule_id varchar(128) unique, Pharmacokinetic__Tmax__h_ varchar(20), mean double, count varchar(200), data text, mol_id integer,constraint foreign key (mol_id) references ikenacomps(id) on delete cascade on update cascade, primary key(id)) ENGINE=InnoDB\n"
     ]
    },
    {
     "name": "stderr",
     "output_type": "stream",
     "text": [
      "C:\\ProgramData\\Anaconda3\\envs\\my-rdkit-env\\lib\\site-packages\\ipykernel_launcher.py:21: SettingWithCopyWarning: \n",
      "A value is trying to be set on a copy of a slice from a DataFrame\n",
      "\n",
      "See the caveats in the documentation: https://pandas.pydata.org/pandas-docs/stable/user_guide/indexing.html#returning-a-view-versus-a-copy\n"
     ]
    },
    {
     "name": "stdout",
     "output_type": "stream",
     "text": [
      "The columns number = 7\n",
      "CREATE TABLE if not exists Pharmacokinetic__T1_2__h_ (id integer not null auto_increment, Molecule_id varchar(128) unique, Pharmacokinetic__T1_2__h_ varchar(20), mean double, count varchar(200), data text, mol_id integer,constraint foreign key (mol_id) references ikenacomps(id) on delete cascade on update cascade, primary key(id)) ENGINE=InnoDB\n"
     ]
    },
    {
     "name": "stderr",
     "output_type": "stream",
     "text": [
      "C:\\ProgramData\\Anaconda3\\envs\\my-rdkit-env\\lib\\site-packages\\ipykernel_launcher.py:21: SettingWithCopyWarning: \n",
      "A value is trying to be set on a copy of a slice from a DataFrame\n",
      "\n",
      "See the caveats in the documentation: https://pandas.pydata.org/pandas-docs/stable/user_guide/indexing.html#returning-a-view-versus-a-copy\n"
     ]
    },
    {
     "name": "stdout",
     "output_type": "stream",
     "text": [
      "The columns number = 8\n",
      "CREATE TABLE if not exists Pharmacokinetic__Vdss__L_kg_ (id integer not null auto_increment, Molecule_id varchar(128) unique, Pharmacokinetic__Vdss__L_kg_ varchar(20), mean double, count varchar(200), data text, mol_id integer,constraint foreign key (mol_id) references ikenacomps(id) on delete cascade on update cascade, primary key(id)) ENGINE=InnoDB\n"
     ]
    },
    {
     "name": "stderr",
     "output_type": "stream",
     "text": [
      "C:\\ProgramData\\Anaconda3\\envs\\my-rdkit-env\\lib\\site-packages\\ipykernel_launcher.py:21: SettingWithCopyWarning: \n",
      "A value is trying to be set on a copy of a slice from a DataFrame\n",
      "\n",
      "See the caveats in the documentation: https://pandas.pydata.org/pandas-docs/stable/user_guide/indexing.html#returning-a-view-versus-a-copy\n"
     ]
    },
    {
     "name": "stdout",
     "output_type": "stream",
     "text": [
      "The columns number = 9\n",
      "CREATE TABLE if not exists Pharmacokinetic__Cl__mL_min_kg_ (id integer not null auto_increment, Molecule_id varchar(128) unique, Pharmacokinetic__Cl__mL_min_kg_ varchar(20), mean double, count varchar(200), data text, mol_id integer,constraint foreign key (mol_id) references ikenacomps(id) on delete cascade on update cascade, primary key(id)) ENGINE=InnoDB\n"
     ]
    },
    {
     "name": "stderr",
     "output_type": "stream",
     "text": [
      "C:\\ProgramData\\Anaconda3\\envs\\my-rdkit-env\\lib\\site-packages\\ipykernel_launcher.py:21: SettingWithCopyWarning: \n",
      "A value is trying to be set on a copy of a slice from a DataFrame\n",
      "\n",
      "See the caveats in the documentation: https://pandas.pydata.org/pandas-docs/stable/user_guide/indexing.html#returning-a-view-versus-a-copy\n"
     ]
    },
    {
     "name": "stdout",
     "output_type": "stream",
     "text": [
      "The columns number = 10\n",
      "CREATE TABLE if not exists Pharmacokinetic__Bioavailability____ (id integer not null auto_increment, Molecule_id varchar(128) unique, Pharmacokinetic__Bioavailability____ varchar(20), mean double, count varchar(200), data text, mol_id integer,constraint foreign key (mol_id) references ikenacomps(id) on delete cascade on update cascade, primary key(id)) ENGINE=InnoDB\n"
     ]
    },
    {
     "name": "stderr",
     "output_type": "stream",
     "text": [
      "C:\\ProgramData\\Anaconda3\\envs\\my-rdkit-env\\lib\\site-packages\\ipykernel_launcher.py:21: SettingWithCopyWarning: \n",
      "A value is trying to be set on a copy of a slice from a DataFrame\n",
      "\n",
      "See the caveats in the documentation: https://pandas.pydata.org/pandas-docs/stable/user_guide/indexing.html#returning-a-view-versus-a-copy\n"
     ]
    },
    {
     "name": "stdout",
     "output_type": "stream",
     "text": [
      "The columns number = 11\n",
      "CREATE TABLE if not exists Plasma_Stability__T1_2 (id integer not null auto_increment, Molecule_id varchar(128) unique, Plasma_Stability__T1_2 varchar(20), mean double, count varchar(200), data text, mol_id integer,constraint foreign key (mol_id) references ikenacomps(id) on delete cascade on update cascade, primary key(id)) ENGINE=InnoDB\n"
     ]
    },
    {
     "name": "stderr",
     "output_type": "stream",
     "text": [
      "C:\\ProgramData\\Anaconda3\\envs\\my-rdkit-env\\lib\\site-packages\\ipykernel_launcher.py:21: SettingWithCopyWarning: \n",
      "A value is trying to be set on a copy of a slice from a DataFrame\n",
      "\n",
      "See the caveats in the documentation: https://pandas.pydata.org/pandas-docs/stable/user_guide/indexing.html#returning-a-view-versus-a-copy\n"
     ]
    },
    {
     "name": "stdout",
     "output_type": "stream",
     "text": [
      "The columns number = 12\n",
      "CREATE TABLE if not exists ERK5_MEF2_IC50_Paraza__Avg_IC50__nM_ (id integer not null auto_increment, Molecule_id varchar(128) unique, ERK5_MEF2_IC50_Paraza__Avg_IC50__nM_ varchar(20), mean double, count varchar(200), data text, mol_id integer,constraint foreign key (mol_id) references ikenacomps(id) on delete cascade on update cascade, primary key(id)) ENGINE=InnoDB\n"
     ]
    },
    {
     "name": "stderr",
     "output_type": "stream",
     "text": [
      "C:\\ProgramData\\Anaconda3\\envs\\my-rdkit-env\\lib\\site-packages\\ipykernel_launcher.py:21: SettingWithCopyWarning: \n",
      "A value is trying to be set on a copy of a slice from a DataFrame\n",
      "\n",
      "See the caveats in the documentation: https://pandas.pydata.org/pandas-docs/stable/user_guide/indexing.html#returning-a-view-versus-a-copy\n"
     ]
    },
    {
     "name": "stdout",
     "output_type": "stream",
     "text": [
      "The columns number = 13\n",
      "CREATE TABLE if not exists Caco2_w_BSA__Papp__A_to_B___10_6_cm_s_ (id integer not null auto_increment, Molecule_id varchar(128) unique, Caco2_w_BSA__Papp__A_to_B___10_6_cm_s_ varchar(20), mean double, count varchar(200), data text, mol_id integer,constraint foreign key (mol_id) references ikenacomps(id) on delete cascade on update cascade, primary key(id)) ENGINE=InnoDB\n"
     ]
    },
    {
     "name": "stderr",
     "output_type": "stream",
     "text": [
      "C:\\ProgramData\\Anaconda3\\envs\\my-rdkit-env\\lib\\site-packages\\ipykernel_launcher.py:21: SettingWithCopyWarning: \n",
      "A value is trying to be set on a copy of a slice from a DataFrame\n",
      "\n",
      "See the caveats in the documentation: https://pandas.pydata.org/pandas-docs/stable/user_guide/indexing.html#returning-a-view-versus-a-copy\n"
     ]
    },
    {
     "name": "stdout",
     "output_type": "stream",
     "text": [
      "The columns number = 14\n",
      "CREATE TABLE if not exists Caco2_w_BSA__Paap__B_to_A___10_6_cm_s_ (id integer not null auto_increment, Molecule_id varchar(128) unique, Caco2_w_BSA__Paap__B_to_A___10_6_cm_s_ varchar(20), mean double, count varchar(200), data text, mol_id integer,constraint foreign key (mol_id) references ikenacomps(id) on delete cascade on update cascade, primary key(id)) ENGINE=InnoDB\n"
     ]
    },
    {
     "name": "stderr",
     "output_type": "stream",
     "text": [
      "C:\\ProgramData\\Anaconda3\\envs\\my-rdkit-env\\lib\\site-packages\\ipykernel_launcher.py:21: SettingWithCopyWarning: \n",
      "A value is trying to be set on a copy of a slice from a DataFrame\n",
      "\n",
      "See the caveats in the documentation: https://pandas.pydata.org/pandas-docs/stable/user_guide/indexing.html#returning-a-view-versus-a-copy\n"
     ]
    },
    {
     "name": "stdout",
     "output_type": "stream",
     "text": [
      "The columns number = 15\n",
      "CREATE TABLE if not exists Caco2_w_BSA__Efflux_Ratio (id integer not null auto_increment, Molecule_id varchar(128) unique, Caco2_w_BSA__Efflux_Ratio varchar(20), mean double, count varchar(200), data text, mol_id integer,constraint foreign key (mol_id) references ikenacomps(id) on delete cascade on update cascade, primary key(id)) ENGINE=InnoDB\n"
     ]
    },
    {
     "name": "stderr",
     "output_type": "stream",
     "text": [
      "C:\\ProgramData\\Anaconda3\\envs\\my-rdkit-env\\lib\\site-packages\\ipykernel_launcher.py:21: SettingWithCopyWarning: \n",
      "A value is trying to be set on a copy of a slice from a DataFrame\n",
      "\n",
      "See the caveats in the documentation: https://pandas.pydata.org/pandas-docs/stable/user_guide/indexing.html#returning-a-view-versus-a-copy\n"
     ]
    },
    {
     "name": "stdout",
     "output_type": "stream",
     "text": [
      "The columns number = 16\n",
      "CREATE TABLE if not exists CRaf_MEK_SPR__KD__M_ (id integer not null auto_increment, Molecule_id varchar(128) unique, CRaf_MEK_SPR__KD__M_ varchar(20), mean double, count varchar(200), data text, mol_id integer,constraint foreign key (mol_id) references ikenacomps(id) on delete cascade on update cascade, primary key(id)) ENGINE=InnoDB\n"
     ]
    },
    {
     "name": "stderr",
     "output_type": "stream",
     "text": [
      "C:\\ProgramData\\Anaconda3\\envs\\my-rdkit-env\\lib\\site-packages\\ipykernel_launcher.py:21: SettingWithCopyWarning: \n",
      "A value is trying to be set on a copy of a slice from a DataFrame\n",
      "\n",
      "See the caveats in the documentation: https://pandas.pydata.org/pandas-docs/stable/user_guide/indexing.html#returning-a-view-versus-a-copy\n"
     ]
    },
    {
     "name": "stdout",
     "output_type": "stream",
     "text": [
      "The columns number = 17\n",
      "CREATE TABLE if not exists FBS_Binding__Equilibrium_Dialysis___Unbound____ (id integer not null auto_increment, Molecule_id varchar(128) unique, FBS_Binding__Equilibrium_Dialysis___Unbound____ varchar(20), mean double, count varchar(200), data text, mol_id integer,constraint foreign key (mol_id) references ikenacomps(id) on delete cascade on update cascade, primary key(id)) ENGINE=InnoDB\n"
     ]
    },
    {
     "name": "stderr",
     "output_type": "stream",
     "text": [
      "C:\\ProgramData\\Anaconda3\\envs\\my-rdkit-env\\lib\\site-packages\\ipykernel_launcher.py:21: SettingWithCopyWarning: \n",
      "A value is trying to be set on a copy of a slice from a DataFrame\n",
      "\n",
      "See the caveats in the documentation: https://pandas.pydata.org/pandas-docs/stable/user_guide/indexing.html#returning-a-view-versus-a-copy\n"
     ]
    },
    {
     "name": "stdout",
     "output_type": "stream",
     "text": [
      "The columns number = 18\n",
      "CREATE TABLE if not exists FBS_Binding__Equilibrium_Dialysis___Bound____ (id integer not null auto_increment, Molecule_id varchar(128) unique, FBS_Binding__Equilibrium_Dialysis___Bound____ varchar(20), mean double, count varchar(200), data text, mol_id integer,constraint foreign key (mol_id) references ikenacomps(id) on delete cascade on update cascade, primary key(id)) ENGINE=InnoDB\n"
     ]
    },
    {
     "name": "stderr",
     "output_type": "stream",
     "text": [
      "C:\\ProgramData\\Anaconda3\\envs\\my-rdkit-env\\lib\\site-packages\\ipykernel_launcher.py:21: SettingWithCopyWarning: \n",
      "A value is trying to be set on a copy of a slice from a DataFrame\n",
      "\n",
      "See the caveats in the documentation: https://pandas.pydata.org/pandas-docs/stable/user_guide/indexing.html#returning-a-view-versus-a-copy\n"
     ]
    },
    {
     "name": "stdout",
     "output_type": "stream",
     "text": [
      "The columns number = 19\n",
      "CREATE TABLE if not exists FBS_Binding__Equilibrium_Dialysis___Remaining____ (id integer not null auto_increment, Molecule_id varchar(128) unique, FBS_Binding__Equilibrium_Dialysis___Remaining____ varchar(20), mean double, count varchar(200), data text, mol_id integer,constraint foreign key (mol_id) references ikenacomps(id) on delete cascade on update cascade, primary key(id)) ENGINE=InnoDB\n"
     ]
    },
    {
     "name": "stderr",
     "output_type": "stream",
     "text": [
      "C:\\ProgramData\\Anaconda3\\envs\\my-rdkit-env\\lib\\site-packages\\ipykernel_launcher.py:21: SettingWithCopyWarning: \n",
      "A value is trying to be set on a copy of a slice from a DataFrame\n",
      "\n",
      "See the caveats in the documentation: https://pandas.pydata.org/pandas-docs/stable/user_guide/indexing.html#returning-a-view-versus-a-copy\n"
     ]
    },
    {
     "name": "stdout",
     "output_type": "stream",
     "text": [
      "The columns number = 20\n",
      "CREATE TABLE if not exists Hepatocyte_stability__T1_2__min_ (id integer not null auto_increment, Molecule_id varchar(128) unique, Hepatocyte_stability__T1_2__min_ varchar(20), mean double, count varchar(200), data text, mol_id integer,constraint foreign key (mol_id) references ikenacomps(id) on delete cascade on update cascade, primary key(id)) ENGINE=InnoDB\n"
     ]
    },
    {
     "name": "stderr",
     "output_type": "stream",
     "text": [
      "C:\\ProgramData\\Anaconda3\\envs\\my-rdkit-env\\lib\\site-packages\\ipykernel_launcher.py:21: SettingWithCopyWarning: \n",
      "A value is trying to be set on a copy of a slice from a DataFrame\n",
      "\n",
      "See the caveats in the documentation: https://pandas.pydata.org/pandas-docs/stable/user_guide/indexing.html#returning-a-view-versus-a-copy\n"
     ]
    },
    {
     "name": "stdout",
     "output_type": "stream",
     "text": [
      "The columns number = 21\n",
      "CREATE TABLE if not exists Hepatocyte_stability__ER__Ratio_ (id integer not null auto_increment, Molecule_id varchar(128) unique, Hepatocyte_stability__ER__Ratio_ varchar(20), mean double, count varchar(200), data text, mol_id integer,constraint foreign key (mol_id) references ikenacomps(id) on delete cascade on update cascade, primary key(id)) ENGINE=InnoDB\n"
     ]
    },
    {
     "name": "stderr",
     "output_type": "stream",
     "text": [
      "C:\\ProgramData\\Anaconda3\\envs\\my-rdkit-env\\lib\\site-packages\\ipykernel_launcher.py:21: SettingWithCopyWarning: \n",
      "A value is trying to be set on a copy of a slice from a DataFrame\n",
      "\n",
      "See the caveats in the documentation: https://pandas.pydata.org/pandas-docs/stable/user_guide/indexing.html#returning-a-view-versus-a-copy\n"
     ]
    },
    {
     "name": "stdout",
     "output_type": "stream",
     "text": [
      "The columns number = 22\n",
      "CREATE TABLE if not exists Hepatocyte_stability__Clint__mL_min_kg_ (id integer not null auto_increment, Molecule_id varchar(128) unique, Hepatocyte_stability__Clint__mL_min_kg_ varchar(20), mean double, count varchar(200), data text, mol_id integer,constraint foreign key (mol_id) references ikenacomps(id) on delete cascade on update cascade, primary key(id)) ENGINE=InnoDB\n"
     ]
    },
    {
     "name": "stderr",
     "output_type": "stream",
     "text": [
      "C:\\ProgramData\\Anaconda3\\envs\\my-rdkit-env\\lib\\site-packages\\ipykernel_launcher.py:21: SettingWithCopyWarning: \n",
      "A value is trying to be set on a copy of a slice from a DataFrame\n",
      "\n",
      "See the caveats in the documentation: https://pandas.pydata.org/pandas-docs/stable/user_guide/indexing.html#returning-a-view-versus-a-copy\n"
     ]
    },
    {
     "name": "stdout",
     "output_type": "stream",
     "text": [
      "The columns number = 23\n",
      "CREATE TABLE if not exists pERK_AsPC_1__G12D__HTRF__4_hour___IC50__uM_ (id integer not null auto_increment, Molecule_id varchar(128) unique, pERK_AsPC_1__G12D__HTRF__4_hour___IC50__uM_ varchar(20), mean double, count varchar(200), data text, mol_id integer,constraint foreign key (mol_id) references ikenacomps(id) on delete cascade on update cascade, primary key(id)) ENGINE=InnoDB\n"
     ]
    },
    {
     "name": "stderr",
     "output_type": "stream",
     "text": [
      "C:\\ProgramData\\Anaconda3\\envs\\my-rdkit-env\\lib\\site-packages\\ipykernel_launcher.py:21: SettingWithCopyWarning: \n",
      "A value is trying to be set on a copy of a slice from a DataFrame\n",
      "\n",
      "See the caveats in the documentation: https://pandas.pydata.org/pandas-docs/stable/user_guide/indexing.html#returning-a-view-versus-a-copy\n"
     ]
    },
    {
     "name": "stdout",
     "output_type": "stream",
     "text": [
      "The columns number = 24\n",
      "CREATE TABLE if not exists pERK_AsPC_1__G12D__HTRF__4_hour___Average_IC50__nM_ (id integer not null auto_increment, Molecule_id varchar(128) unique, pERK_AsPC_1__G12D__HTRF__4_hour___Average_IC50__nM_ varchar(20), mean double, count varchar(200), data text, mol_id integer,constraint foreign key (mol_id) references ikenacomps(id) on delete cascade on update cascade, primary key(id)) ENGINE=InnoDB\n"
     ]
    },
    {
     "name": "stderr",
     "output_type": "stream",
     "text": [
      "C:\\ProgramData\\Anaconda3\\envs\\my-rdkit-env\\lib\\site-packages\\ipykernel_launcher.py:21: SettingWithCopyWarning: \n",
      "A value is trying to be set on a copy of a slice from a DataFrame\n",
      "\n",
      "See the caveats in the documentation: https://pandas.pydata.org/pandas-docs/stable/user_guide/indexing.html#returning-a-view-versus-a-copy\n"
     ]
    },
    {
     "name": "stdout",
     "output_type": "stream",
     "text": [
      "The columns number = 25\n",
      "CREATE TABLE if not exists pERK_AsPC_1__G12D__ICW__4_hour___IC50__uM_ (id integer not null auto_increment, Molecule_id varchar(128) unique, pERK_AsPC_1__G12D__ICW__4_hour___IC50__uM_ varchar(20), mean double, count varchar(200), data text, mol_id integer,constraint foreign key (mol_id) references ikenacomps(id) on delete cascade on update cascade, primary key(id)) ENGINE=InnoDB\n"
     ]
    },
    {
     "name": "stderr",
     "output_type": "stream",
     "text": [
      "C:\\ProgramData\\Anaconda3\\envs\\my-rdkit-env\\lib\\site-packages\\ipykernel_launcher.py:21: SettingWithCopyWarning: \n",
      "A value is trying to be set on a copy of a slice from a DataFrame\n",
      "\n",
      "See the caveats in the documentation: https://pandas.pydata.org/pandas-docs/stable/user_guide/indexing.html#returning-a-view-versus-a-copy\n"
     ]
    },
    {
     "name": "stdout",
     "output_type": "stream",
     "text": [
      "The columns number = 26\n",
      "CREATE TABLE if not exists pERK_AsPC_1__G12D__ICW__4_hour___IC95__uM_ (id integer not null auto_increment, Molecule_id varchar(128) unique, pERK_AsPC_1__G12D__ICW__4_hour___IC95__uM_ varchar(20), mean double, count varchar(200), data text, mol_id integer,constraint foreign key (mol_id) references ikenacomps(id) on delete cascade on update cascade, primary key(id)) ENGINE=InnoDB\n"
     ]
    },
    {
     "name": "stderr",
     "output_type": "stream",
     "text": [
      "C:\\ProgramData\\Anaconda3\\envs\\my-rdkit-env\\lib\\site-packages\\ipykernel_launcher.py:21: SettingWithCopyWarning: \n",
      "A value is trying to be set on a copy of a slice from a DataFrame\n",
      "\n",
      "See the caveats in the documentation: https://pandas.pydata.org/pandas-docs/stable/user_guide/indexing.html#returning-a-view-versus-a-copy\n"
     ]
    },
    {
     "name": "stdout",
     "output_type": "stream",
     "text": [
      "The columns number = 27\n",
      "CREATE TABLE if not exists pERK_AsPC_1__G12D__ICW__4_hour___Average_IC50__nM_ (id integer not null auto_increment, Molecule_id varchar(128) unique, pERK_AsPC_1__G12D__ICW__4_hour___Average_IC50__nM_ varchar(20), mean double, count varchar(200), data text, mol_id integer,constraint foreign key (mol_id) references ikenacomps(id) on delete cascade on update cascade, primary key(id)) ENGINE=InnoDB\n"
     ]
    },
    {
     "name": "stderr",
     "output_type": "stream",
     "text": [
      "C:\\ProgramData\\Anaconda3\\envs\\my-rdkit-env\\lib\\site-packages\\ipykernel_launcher.py:21: SettingWithCopyWarning: \n",
      "A value is trying to be set on a copy of a slice from a DataFrame\n",
      "\n",
      "See the caveats in the documentation: https://pandas.pydata.org/pandas-docs/stable/user_guide/indexing.html#returning-a-view-versus-a-copy\n"
     ]
    },
    {
     "name": "stdout",
     "output_type": "stream",
     "text": [
      "The columns number = 28\n",
      "CREATE TABLE if not exists Plasma_Protein_Binding__dialysis___Unbound____ (id integer not null auto_increment, Molecule_id varchar(128) unique, Plasma_Protein_Binding__dialysis___Unbound____ varchar(20), mean double, count varchar(200), data text, mol_id integer,constraint foreign key (mol_id) references ikenacomps(id) on delete cascade on update cascade, primary key(id)) ENGINE=InnoDB\n"
     ]
    },
    {
     "name": "stderr",
     "output_type": "stream",
     "text": [
      "C:\\ProgramData\\Anaconda3\\envs\\my-rdkit-env\\lib\\site-packages\\ipykernel_launcher.py:21: SettingWithCopyWarning: \n",
      "A value is trying to be set on a copy of a slice from a DataFrame\n",
      "\n",
      "See the caveats in the documentation: https://pandas.pydata.org/pandas-docs/stable/user_guide/indexing.html#returning-a-view-versus-a-copy\n"
     ]
    },
    {
     "name": "stdout",
     "output_type": "stream",
     "text": [
      "The columns number = 29\n",
      "CREATE TABLE if not exists Plasma_Protein_Binding__dialysis___Bound____ (id integer not null auto_increment, Molecule_id varchar(128) unique, Plasma_Protein_Binding__dialysis___Bound____ varchar(20), mean double, count varchar(200), data text, mol_id integer,constraint foreign key (mol_id) references ikenacomps(id) on delete cascade on update cascade, primary key(id)) ENGINE=InnoDB\n"
     ]
    },
    {
     "name": "stderr",
     "output_type": "stream",
     "text": [
      "C:\\ProgramData\\Anaconda3\\envs\\my-rdkit-env\\lib\\site-packages\\ipykernel_launcher.py:21: SettingWithCopyWarning: \n",
      "A value is trying to be set on a copy of a slice from a DataFrame\n",
      "\n",
      "See the caveats in the documentation: https://pandas.pydata.org/pandas-docs/stable/user_guide/indexing.html#returning-a-view-versus-a-copy\n"
     ]
    },
    {
     "name": "stdout",
     "output_type": "stream",
     "text": [
      "The columns number = 30\n",
      "CREATE TABLE if not exists Plasma_Protein_Binding_ucentri__Unbound____ (id integer not null auto_increment, Molecule_id varchar(128) unique, Plasma_Protein_Binding_ucentri__Unbound____ varchar(20), mean double, count varchar(200), data text, mol_id integer,constraint foreign key (mol_id) references ikenacomps(id) on delete cascade on update cascade, primary key(id)) ENGINE=InnoDB\n"
     ]
    },
    {
     "name": "stderr",
     "output_type": "stream",
     "text": [
      "C:\\ProgramData\\Anaconda3\\envs\\my-rdkit-env\\lib\\site-packages\\ipykernel_launcher.py:21: SettingWithCopyWarning: \n",
      "A value is trying to be set on a copy of a slice from a DataFrame\n",
      "\n",
      "See the caveats in the documentation: https://pandas.pydata.org/pandas-docs/stable/user_guide/indexing.html#returning-a-view-versus-a-copy\n"
     ]
    },
    {
     "name": "stdout",
     "output_type": "stream",
     "text": [
      "The columns number = 31\n",
      "CREATE TABLE if not exists Plasma_Protein_Binding_ucentri__Recovery____ (id integer not null auto_increment, Molecule_id varchar(128) unique, Plasma_Protein_Binding_ucentri__Recovery____ varchar(20), mean double, count varchar(200), data text, mol_id integer,constraint foreign key (mol_id) references ikenacomps(id) on delete cascade on update cascade, primary key(id)) ENGINE=InnoDB\n"
     ]
    },
    {
     "name": "stderr",
     "output_type": "stream",
     "text": [
      "C:\\ProgramData\\Anaconda3\\envs\\my-rdkit-env\\lib\\site-packages\\ipykernel_launcher.py:21: SettingWithCopyWarning: \n",
      "A value is trying to be set on a copy of a slice from a DataFrame\n",
      "\n",
      "See the caveats in the documentation: https://pandas.pydata.org/pandas-docs/stable/user_guide/indexing.html#returning-a-view-versus-a-copy\n"
     ]
    },
    {
     "name": "stdout",
     "output_type": "stream",
     "text": [
      "The columns number = 32\n",
      "CREATE TABLE if not exists AsPC_1__G12D__CTG____inhibition____ (id integer not null auto_increment, Molecule_id varchar(128) unique, AsPC_1__G12D__CTG____inhibition____ varchar(20), mean double, count varchar(200), data text, mol_id integer,constraint foreign key (mol_id) references ikenacomps(id) on delete cascade on update cascade, primary key(id)) ENGINE=InnoDB\n"
     ]
    },
    {
     "name": "stderr",
     "output_type": "stream",
     "text": [
      "C:\\ProgramData\\Anaconda3\\envs\\my-rdkit-env\\lib\\site-packages\\ipykernel_launcher.py:21: SettingWithCopyWarning: \n",
      "A value is trying to be set on a copy of a slice from a DataFrame\n",
      "\n",
      "See the caveats in the documentation: https://pandas.pydata.org/pandas-docs/stable/user_guide/indexing.html#returning-a-view-versus-a-copy\n"
     ]
    },
    {
     "name": "stdout",
     "output_type": "stream",
     "text": [
      "The columns number = 33\n",
      "CREATE TABLE if not exists AsPC_1__G12D__CTG__Average_IC50__nM_ (id integer not null auto_increment, Molecule_id varchar(128) unique, AsPC_1__G12D__CTG__Average_IC50__nM_ varchar(20), mean double, count varchar(200), data text, mol_id integer,constraint foreign key (mol_id) references ikenacomps(id) on delete cascade on update cascade, primary key(id)) ENGINE=InnoDB\n"
     ]
    },
    {
     "name": "stderr",
     "output_type": "stream",
     "text": [
      "C:\\ProgramData\\Anaconda3\\envs\\my-rdkit-env\\lib\\site-packages\\ipykernel_launcher.py:21: SettingWithCopyWarning: \n",
      "A value is trying to be set on a copy of a slice from a DataFrame\n",
      "\n",
      "See the caveats in the documentation: https://pandas.pydata.org/pandas-docs/stable/user_guide/indexing.html#returning-a-view-versus-a-copy\n"
     ]
    },
    {
     "name": "stdout",
     "output_type": "stream",
     "text": [
      "The columns number = 34\n",
      "CREATE TABLE if not exists G12C_KRas__GTP_HTRF__IC50__uM_ (id integer not null auto_increment, Molecule_id varchar(128) unique, G12C_KRas__GTP_HTRF__IC50__uM_ varchar(20), mean double, count varchar(200), data text, mol_id integer,constraint foreign key (mol_id) references ikenacomps(id) on delete cascade on update cascade, primary key(id)) ENGINE=InnoDB\n"
     ]
    },
    {
     "name": "stderr",
     "output_type": "stream",
     "text": [
      "C:\\ProgramData\\Anaconda3\\envs\\my-rdkit-env\\lib\\site-packages\\ipykernel_launcher.py:21: SettingWithCopyWarning: \n",
      "A value is trying to be set on a copy of a slice from a DataFrame\n",
      "\n",
      "See the caveats in the documentation: https://pandas.pydata.org/pandas-docs/stable/user_guide/indexing.html#returning-a-view-versus-a-copy\n"
     ]
    },
    {
     "name": "stdout",
     "output_type": "stream",
     "text": [
      "The columns number = 35\n",
      "CREATE TABLE if not exists G12C_KRas__GTP_HTRF__Average_IC50__nM_ (id integer not null auto_increment, Molecule_id varchar(128) unique, G12C_KRas__GTP_HTRF__Average_IC50__nM_ varchar(20), mean double, count varchar(200), data text, mol_id integer,constraint foreign key (mol_id) references ikenacomps(id) on delete cascade on update cascade, primary key(id)) ENGINE=InnoDB\n"
     ]
    },
    {
     "name": "stderr",
     "output_type": "stream",
     "text": [
      "C:\\ProgramData\\Anaconda3\\envs\\my-rdkit-env\\lib\\site-packages\\ipykernel_launcher.py:21: SettingWithCopyWarning: \n",
      "A value is trying to be set on a copy of a slice from a DataFrame\n",
      "\n",
      "See the caveats in the documentation: https://pandas.pydata.org/pandas-docs/stable/user_guide/indexing.html#returning-a-view-versus-a-copy\n"
     ]
    },
    {
     "name": "stdout",
     "output_type": "stream",
     "text": [
      "The columns number = 36\n",
      "CREATE TABLE if not exists G12C_KRas__GTP_HTRF__Selectivity__G12C_WT_ (id integer not null auto_increment, Molecule_id varchar(128) unique, G12C_KRas__GTP_HTRF__Selectivity__G12C_WT_ varchar(20), mean double, count varchar(200), data text, mol_id integer,constraint foreign key (mol_id) references ikenacomps(id) on delete cascade on update cascade, primary key(id)) ENGINE=InnoDB\n"
     ]
    },
    {
     "name": "stderr",
     "output_type": "stream",
     "text": [
      "C:\\ProgramData\\Anaconda3\\envs\\my-rdkit-env\\lib\\site-packages\\ipykernel_launcher.py:21: SettingWithCopyWarning: \n",
      "A value is trying to be set on a copy of a slice from a DataFrame\n",
      "\n",
      "See the caveats in the documentation: https://pandas.pydata.org/pandas-docs/stable/user_guide/indexing.html#returning-a-view-versus-a-copy\n"
     ]
    },
    {
     "name": "stdout",
     "output_type": "stream",
     "text": [
      "The columns number = 37\n",
      "CREATE TABLE if not exists G12D_KRas_CRAF_GMPPNP_HTRF__IC50__uM_ (id integer not null auto_increment, Molecule_id varchar(128) unique, G12D_KRas_CRAF_GMPPNP_HTRF__IC50__uM_ varchar(20), mean double, count varchar(200), data text, mol_id integer,constraint foreign key (mol_id) references ikenacomps(id) on delete cascade on update cascade, primary key(id)) ENGINE=InnoDB\n"
     ]
    },
    {
     "name": "stderr",
     "output_type": "stream",
     "text": [
      "C:\\ProgramData\\Anaconda3\\envs\\my-rdkit-env\\lib\\site-packages\\ipykernel_launcher.py:21: SettingWithCopyWarning: \n",
      "A value is trying to be set on a copy of a slice from a DataFrame\n",
      "\n",
      "See the caveats in the documentation: https://pandas.pydata.org/pandas-docs/stable/user_guide/indexing.html#returning-a-view-versus-a-copy\n"
     ]
    },
    {
     "name": "stdout",
     "output_type": "stream",
     "text": [
      "The columns number = 38\n",
      "CREATE TABLE if not exists G12D_KRas_CRAF_GMPPNP_HTRF__Average_IC50__nM_ (id integer not null auto_increment, Molecule_id varchar(128) unique, G12D_KRas_CRAF_GMPPNP_HTRF__Average_IC50__nM_ varchar(20), mean double, count varchar(200), data text, mol_id integer,constraint foreign key (mol_id) references ikenacomps(id) on delete cascade on update cascade, primary key(id)) ENGINE=InnoDB\n"
     ]
    },
    {
     "name": "stderr",
     "output_type": "stream",
     "text": [
      "C:\\ProgramData\\Anaconda3\\envs\\my-rdkit-env\\lib\\site-packages\\ipykernel_launcher.py:21: SettingWithCopyWarning: \n",
      "A value is trying to be set on a copy of a slice from a DataFrame\n",
      "\n",
      "See the caveats in the documentation: https://pandas.pydata.org/pandas-docs/stable/user_guide/indexing.html#returning-a-view-versus-a-copy\n"
     ]
    },
    {
     "name": "stdout",
     "output_type": "stream",
     "text": [
      "The columns number = 39\n",
      "CREATE TABLE if not exists G12D_KRas_CRAF_GMPPNP_HTRF__Selectivity__G12D_WT_ (id integer not null auto_increment, Molecule_id varchar(128) unique, G12D_KRas_CRAF_GMPPNP_HTRF__Selectivity__G12D_WT_ varchar(20), mean double, count varchar(200), data text, mol_id integer,constraint foreign key (mol_id) references ikenacomps(id) on delete cascade on update cascade, primary key(id)) ENGINE=InnoDB\n"
     ]
    },
    {
     "name": "stderr",
     "output_type": "stream",
     "text": [
      "C:\\ProgramData\\Anaconda3\\envs\\my-rdkit-env\\lib\\site-packages\\ipykernel_launcher.py:21: SettingWithCopyWarning: \n",
      "A value is trying to be set on a copy of a slice from a DataFrame\n",
      "\n",
      "See the caveats in the documentation: https://pandas.pydata.org/pandas-docs/stable/user_guide/indexing.html#returning-a-view-versus-a-copy\n"
     ]
    },
    {
     "name": "stdout",
     "output_type": "stream",
     "text": [
      "The columns number = 40\n",
      "CREATE TABLE if not exists G12D_KRas__GTP_HTRF__IC50__uM_ (id integer not null auto_increment, Molecule_id varchar(128) unique, G12D_KRas__GTP_HTRF__IC50__uM_ varchar(20), mean double, count varchar(200), data text, mol_id integer,constraint foreign key (mol_id) references ikenacomps(id) on delete cascade on update cascade, primary key(id)) ENGINE=InnoDB\n"
     ]
    },
    {
     "name": "stderr",
     "output_type": "stream",
     "text": [
      "C:\\ProgramData\\Anaconda3\\envs\\my-rdkit-env\\lib\\site-packages\\ipykernel_launcher.py:21: SettingWithCopyWarning: \n",
      "A value is trying to be set on a copy of a slice from a DataFrame\n",
      "\n",
      "See the caveats in the documentation: https://pandas.pydata.org/pandas-docs/stable/user_guide/indexing.html#returning-a-view-versus-a-copy\n"
     ]
    },
    {
     "name": "stdout",
     "output_type": "stream",
     "text": [
      "The columns number = 41\n",
      "CREATE TABLE if not exists G12D_KRas__GTP_HTRF__Average_IC50__nM_ (id integer not null auto_increment, Molecule_id varchar(128) unique, G12D_KRas__GTP_HTRF__Average_IC50__nM_ varchar(20), mean double, count varchar(200), data text, mol_id integer,constraint foreign key (mol_id) references ikenacomps(id) on delete cascade on update cascade, primary key(id)) ENGINE=InnoDB\n"
     ]
    },
    {
     "name": "stderr",
     "output_type": "stream",
     "text": [
      "C:\\ProgramData\\Anaconda3\\envs\\my-rdkit-env\\lib\\site-packages\\ipykernel_launcher.py:21: SettingWithCopyWarning: \n",
      "A value is trying to be set on a copy of a slice from a DataFrame\n",
      "\n",
      "See the caveats in the documentation: https://pandas.pydata.org/pandas-docs/stable/user_guide/indexing.html#returning-a-view-versus-a-copy\n"
     ]
    },
    {
     "name": "stdout",
     "output_type": "stream",
     "text": [
      "The columns number = 42\n",
      "CREATE TABLE if not exists G12V_KRas__GTP_HTRF__IC50__uM_ (id integer not null auto_increment, Molecule_id varchar(128) unique, G12V_KRas__GTP_HTRF__IC50__uM_ varchar(20), mean double, count varchar(200), data text, mol_id integer,constraint foreign key (mol_id) references ikenacomps(id) on delete cascade on update cascade, primary key(id)) ENGINE=InnoDB\n"
     ]
    },
    {
     "name": "stderr",
     "output_type": "stream",
     "text": [
      "C:\\ProgramData\\Anaconda3\\envs\\my-rdkit-env\\lib\\site-packages\\ipykernel_launcher.py:21: SettingWithCopyWarning: \n",
      "A value is trying to be set on a copy of a slice from a DataFrame\n",
      "\n",
      "See the caveats in the documentation: https://pandas.pydata.org/pandas-docs/stable/user_guide/indexing.html#returning-a-view-versus-a-copy\n"
     ]
    },
    {
     "name": "stdout",
     "output_type": "stream",
     "text": [
      "The columns number = 43\n",
      "CREATE TABLE if not exists G12V_KRas__GTP_HTRF__Average_IC50__nM_ (id integer not null auto_increment, Molecule_id varchar(128) unique, G12V_KRas__GTP_HTRF__Average_IC50__nM_ varchar(20), mean double, count varchar(200), data text, mol_id integer,constraint foreign key (mol_id) references ikenacomps(id) on delete cascade on update cascade, primary key(id)) ENGINE=InnoDB\n"
     ]
    },
    {
     "name": "stderr",
     "output_type": "stream",
     "text": [
      "C:\\ProgramData\\Anaconda3\\envs\\my-rdkit-env\\lib\\site-packages\\ipykernel_launcher.py:21: SettingWithCopyWarning: \n",
      "A value is trying to be set on a copy of a slice from a DataFrame\n",
      "\n",
      "See the caveats in the documentation: https://pandas.pydata.org/pandas-docs/stable/user_guide/indexing.html#returning-a-view-versus-a-copy\n"
     ]
    },
    {
     "name": "stdout",
     "output_type": "stream",
     "text": [
      "The columns number = 44\n",
      "CREATE TABLE if not exists G12V_KRas__GTP_HTRF__Selectivity__G12V_WT_ (id integer not null auto_increment, Molecule_id varchar(128) unique, G12V_KRas__GTP_HTRF__Selectivity__G12V_WT_ varchar(20), mean double, count varchar(200), data text, mol_id integer,constraint foreign key (mol_id) references ikenacomps(id) on delete cascade on update cascade, primary key(id)) ENGINE=InnoDB\n"
     ]
    },
    {
     "name": "stderr",
     "output_type": "stream",
     "text": [
      "C:\\ProgramData\\Anaconda3\\envs\\my-rdkit-env\\lib\\site-packages\\ipykernel_launcher.py:21: SettingWithCopyWarning: \n",
      "A value is trying to be set on a copy of a slice from a DataFrame\n",
      "\n",
      "See the caveats in the documentation: https://pandas.pydata.org/pandas-docs/stable/user_guide/indexing.html#returning-a-view-versus-a-copy\n"
     ]
    },
    {
     "name": "stdout",
     "output_type": "stream",
     "text": [
      "The columns number = 45\n",
      "CREATE TABLE if not exists MDCK_w_BSA___PGP_Inhibitor__Papp__A_to_B___10_6_cm_s_ (id integer not null auto_increment, Molecule_id varchar(128) unique, MDCK_w_BSA___PGP_Inhibitor__Papp__A_to_B___10_6_cm_s_ varchar(20), mean double, count varchar(200), data text, mol_id integer,constraint foreign key (mol_id) references ikenacomps(id) on delete cascade on update cascade, primary key(id)) ENGINE=InnoDB\n"
     ]
    },
    {
     "name": "stderr",
     "output_type": "stream",
     "text": [
      "C:\\ProgramData\\Anaconda3\\envs\\my-rdkit-env\\lib\\site-packages\\ipykernel_launcher.py:21: SettingWithCopyWarning: \n",
      "A value is trying to be set on a copy of a slice from a DataFrame\n",
      "\n",
      "See the caveats in the documentation: https://pandas.pydata.org/pandas-docs/stable/user_guide/indexing.html#returning-a-view-versus-a-copy\n"
     ]
    },
    {
     "name": "stdout",
     "output_type": "stream",
     "text": [
      "The columns number = 46\n",
      "CREATE TABLE if not exists MDCK_w_BSA___PGP_Inhibitor__Papp__B_to_A___10_6_cm_s_ (id integer not null auto_increment, Molecule_id varchar(128) unique, MDCK_w_BSA___PGP_Inhibitor__Papp__B_to_A___10_6_cm_s_ varchar(20), mean double, count varchar(200), data text, mol_id integer,constraint foreign key (mol_id) references ikenacomps(id) on delete cascade on update cascade, primary key(id)) ENGINE=InnoDB\n"
     ]
    },
    {
     "name": "stderr",
     "output_type": "stream",
     "text": [
      "C:\\ProgramData\\Anaconda3\\envs\\my-rdkit-env\\lib\\site-packages\\ipykernel_launcher.py:21: SettingWithCopyWarning: \n",
      "A value is trying to be set on a copy of a slice from a DataFrame\n",
      "\n",
      "See the caveats in the documentation: https://pandas.pydata.org/pandas-docs/stable/user_guide/indexing.html#returning-a-view-versus-a-copy\n"
     ]
    },
    {
     "name": "stdout",
     "output_type": "stream",
     "text": [
      "The columns number = 47\n",
      "CREATE TABLE if not exists MDCK_w_BSA___PGP_Inhibitor__Efflux_Ratio (id integer not null auto_increment, Molecule_id varchar(128) unique, MDCK_w_BSA___PGP_Inhibitor__Efflux_Ratio varchar(20), mean double, count varchar(200), data text, mol_id integer,constraint foreign key (mol_id) references ikenacomps(id) on delete cascade on update cascade, primary key(id)) ENGINE=InnoDB\n"
     ]
    },
    {
     "name": "stderr",
     "output_type": "stream",
     "text": [
      "C:\\ProgramData\\Anaconda3\\envs\\my-rdkit-env\\lib\\site-packages\\ipykernel_launcher.py:21: SettingWithCopyWarning: \n",
      "A value is trying to be set on a copy of a slice from a DataFrame\n",
      "\n",
      "See the caveats in the documentation: https://pandas.pydata.org/pandas-docs/stable/user_guide/indexing.html#returning-a-view-versus-a-copy\n"
     ]
    },
    {
     "name": "stdout",
     "output_type": "stream",
     "text": [
      "The columns number = 48\n",
      "CREATE TABLE if not exists MDCK_w_BSA___PGP_Inhibitor__Recovery__A_to_B_____ (id integer not null auto_increment, Molecule_id varchar(128) unique, MDCK_w_BSA___PGP_Inhibitor__Recovery__A_to_B_____ varchar(20), mean double, count varchar(200), data text, mol_id integer,constraint foreign key (mol_id) references ikenacomps(id) on delete cascade on update cascade, primary key(id)) ENGINE=InnoDB\n"
     ]
    },
    {
     "name": "stderr",
     "output_type": "stream",
     "text": [
      "C:\\ProgramData\\Anaconda3\\envs\\my-rdkit-env\\lib\\site-packages\\ipykernel_launcher.py:21: SettingWithCopyWarning: \n",
      "A value is trying to be set on a copy of a slice from a DataFrame\n",
      "\n",
      "See the caveats in the documentation: https://pandas.pydata.org/pandas-docs/stable/user_guide/indexing.html#returning-a-view-versus-a-copy\n"
     ]
    },
    {
     "name": "stdout",
     "output_type": "stream",
     "text": [
      "The columns number = 49\n",
      "CREATE TABLE if not exists MDCK_w_BSA___PGP_Inhibitor__Recovery__B_to_A_____ (id integer not null auto_increment, Molecule_id varchar(128) unique, MDCK_w_BSA___PGP_Inhibitor__Recovery__B_to_A_____ varchar(20), mean double, count varchar(200), data text, mol_id integer,constraint foreign key (mol_id) references ikenacomps(id) on delete cascade on update cascade, primary key(id)) ENGINE=InnoDB\n"
     ]
    },
    {
     "name": "stderr",
     "output_type": "stream",
     "text": [
      "C:\\ProgramData\\Anaconda3\\envs\\my-rdkit-env\\lib\\site-packages\\ipykernel_launcher.py:21: SettingWithCopyWarning: \n",
      "A value is trying to be set on a copy of a slice from a DataFrame\n",
      "\n",
      "See the caveats in the documentation: https://pandas.pydata.org/pandas-docs/stable/user_guide/indexing.html#returning-a-view-versus-a-copy\n"
     ]
    },
    {
     "name": "stdout",
     "output_type": "stream",
     "text": [
      "The columns number = 50\n",
      "CREATE TABLE if not exists Microsomal_Stability__T1_2__min_ (id integer not null auto_increment, Molecule_id varchar(128) unique, Microsomal_Stability__T1_2__min_ varchar(20), mean double, count varchar(200), data text, mol_id integer,constraint foreign key (mol_id) references ikenacomps(id) on delete cascade on update cascade, primary key(id)) ENGINE=InnoDB\n"
     ]
    },
    {
     "name": "stderr",
     "output_type": "stream",
     "text": [
      "C:\\ProgramData\\Anaconda3\\envs\\my-rdkit-env\\lib\\site-packages\\ipykernel_launcher.py:21: SettingWithCopyWarning: \n",
      "A value is trying to be set on a copy of a slice from a DataFrame\n",
      "\n",
      "See the caveats in the documentation: https://pandas.pydata.org/pandas-docs/stable/user_guide/indexing.html#returning-a-view-versus-a-copy\n"
     ]
    },
    {
     "name": "stdout",
     "output_type": "stream",
     "text": [
      "The columns number = 51\n",
      "CREATE TABLE if not exists Microsomal_Stability__ER__Ratio_ (id integer not null auto_increment, Molecule_id varchar(128) unique, Microsomal_Stability__ER__Ratio_ varchar(20), mean double, count varchar(200), data text, mol_id integer,constraint foreign key (mol_id) references ikenacomps(id) on delete cascade on update cascade, primary key(id)) ENGINE=InnoDB\n"
     ]
    },
    {
     "name": "stderr",
     "output_type": "stream",
     "text": [
      "C:\\ProgramData\\Anaconda3\\envs\\my-rdkit-env\\lib\\site-packages\\ipykernel_launcher.py:21: SettingWithCopyWarning: \n",
      "A value is trying to be set on a copy of a slice from a DataFrame\n",
      "\n",
      "See the caveats in the documentation: https://pandas.pydata.org/pandas-docs/stable/user_guide/indexing.html#returning-a-view-versus-a-copy\n"
     ]
    },
    {
     "name": "stdout",
     "output_type": "stream",
     "text": [
      "The columns number = 52\n",
      "CREATE TABLE if not exists Microsomal_Stability__Clint__mL_min_kg_ (id integer not null auto_increment, Molecule_id varchar(128) unique, Microsomal_Stability__Clint__mL_min_kg_ varchar(20), mean double, count varchar(200), data text, mol_id integer,constraint foreign key (mol_id) references ikenacomps(id) on delete cascade on update cascade, primary key(id)) ENGINE=InnoDB\n"
     ]
    },
    {
     "name": "stderr",
     "output_type": "stream",
     "text": [
      "C:\\ProgramData\\Anaconda3\\envs\\my-rdkit-env\\lib\\site-packages\\ipykernel_launcher.py:21: SettingWithCopyWarning: \n",
      "A value is trying to be set on a copy of a slice from a DataFrame\n",
      "\n",
      "See the caveats in the documentation: https://pandas.pydata.org/pandas-docs/stable/user_guide/indexing.html#returning-a-view-versus-a-copy\n"
     ]
    },
    {
     "name": "stdout",
     "output_type": "stream",
     "text": [
      "The columns number = 53\n",
      "CREATE TABLE if not exists PAMPA_egg__Pe (id integer not null auto_increment, Molecule_id varchar(128) unique, PAMPA_egg__Pe varchar(20), mean double, count varchar(200), data text, mol_id integer,constraint foreign key (mol_id) references ikenacomps(id) on delete cascade on update cascade, primary key(id)) ENGINE=InnoDB\n"
     ]
    },
    {
     "name": "stderr",
     "output_type": "stream",
     "text": [
      "C:\\ProgramData\\Anaconda3\\envs\\my-rdkit-env\\lib\\site-packages\\ipykernel_launcher.py:21: SettingWithCopyWarning: \n",
      "A value is trying to be set on a copy of a slice from a DataFrame\n",
      "\n",
      "See the caveats in the documentation: https://pandas.pydata.org/pandas-docs/stable/user_guide/indexing.html#returning-a-view-versus-a-copy\n"
     ]
    },
    {
     "name": "stdout",
     "output_type": "stream",
     "text": [
      "The columns number = 54\n",
      "CREATE TABLE if not exists PAMPA_egg__Recovery____ (id integer not null auto_increment, Molecule_id varchar(128) unique, PAMPA_egg__Recovery____ varchar(20), mean double, count varchar(200), data text, mol_id integer,constraint foreign key (mol_id) references ikenacomps(id) on delete cascade on update cascade, primary key(id)) ENGINE=InnoDB\n"
     ]
    },
    {
     "name": "stderr",
     "output_type": "stream",
     "text": [
      "C:\\ProgramData\\Anaconda3\\envs\\my-rdkit-env\\lib\\site-packages\\ipykernel_launcher.py:21: SettingWithCopyWarning: \n",
      "A value is trying to be set on a copy of a slice from a DataFrame\n",
      "\n",
      "See the caveats in the documentation: https://pandas.pydata.org/pandas-docs/stable/user_guide/indexing.html#returning-a-view-versus-a-copy\n"
     ]
    },
    {
     "name": "stdout",
     "output_type": "stream",
     "text": [
      "The columns number = 55\n",
      "CREATE TABLE if not exists PC9__WT__CTG__IC50__uM_ (id integer not null auto_increment, Molecule_id varchar(128) unique, PC9__WT__CTG__IC50__uM_ varchar(20), mean double, count varchar(200), data text, mol_id integer,constraint foreign key (mol_id) references ikenacomps(id) on delete cascade on update cascade, primary key(id)) ENGINE=InnoDB\n"
     ]
    },
    {
     "name": "stderr",
     "output_type": "stream",
     "text": [
      "C:\\ProgramData\\Anaconda3\\envs\\my-rdkit-env\\lib\\site-packages\\ipykernel_launcher.py:21: SettingWithCopyWarning: \n",
      "A value is trying to be set on a copy of a slice from a DataFrame\n",
      "\n",
      "See the caveats in the documentation: https://pandas.pydata.org/pandas-docs/stable/user_guide/indexing.html#returning-a-view-versus-a-copy\n"
     ]
    },
    {
     "name": "stdout",
     "output_type": "stream",
     "text": [
      "The columns number = 56\n",
      "CREATE TABLE if not exists PC9__WT__CTG__IC95__uM_ (id integer not null auto_increment, Molecule_id varchar(128) unique, PC9__WT__CTG__IC95__uM_ varchar(20), mean double, count varchar(200), data text, mol_id integer,constraint foreign key (mol_id) references ikenacomps(id) on delete cascade on update cascade, primary key(id)) ENGINE=InnoDB\n"
     ]
    },
    {
     "name": "stderr",
     "output_type": "stream",
     "text": [
      "C:\\ProgramData\\Anaconda3\\envs\\my-rdkit-env\\lib\\site-packages\\ipykernel_launcher.py:21: SettingWithCopyWarning: \n",
      "A value is trying to be set on a copy of a slice from a DataFrame\n",
      "\n",
      "See the caveats in the documentation: https://pandas.pydata.org/pandas-docs/stable/user_guide/indexing.html#returning-a-view-versus-a-copy\n"
     ]
    },
    {
     "name": "stdout",
     "output_type": "stream",
     "text": [
      "The columns number = 57\n",
      "CREATE TABLE if not exists PC9__WT__CTG__Average_IC50__nM_ (id integer not null auto_increment, Molecule_id varchar(128) unique, PC9__WT__CTG__Average_IC50__nM_ varchar(20), mean double, count varchar(200), data text, mol_id integer,constraint foreign key (mol_id) references ikenacomps(id) on delete cascade on update cascade, primary key(id)) ENGINE=InnoDB\n"
     ]
    },
    {
     "name": "stderr",
     "output_type": "stream",
     "text": [
      "C:\\ProgramData\\Anaconda3\\envs\\my-rdkit-env\\lib\\site-packages\\ipykernel_launcher.py:21: SettingWithCopyWarning: \n",
      "A value is trying to be set on a copy of a slice from a DataFrame\n",
      "\n",
      "See the caveats in the documentation: https://pandas.pydata.org/pandas-docs/stable/user_guide/indexing.html#returning-a-view-versus-a-copy\n"
     ]
    },
    {
     "name": "stdout",
     "output_type": "stream",
     "text": [
      "The columns number = 58\n",
      "CREATE TABLE if not exists pERK_PC9__WT__HTRF__4_hour___IC50__uM_ (id integer not null auto_increment, Molecule_id varchar(128) unique, pERK_PC9__WT__HTRF__4_hour___IC50__uM_ varchar(20), mean double, count varchar(200), data text, mol_id integer,constraint foreign key (mol_id) references ikenacomps(id) on delete cascade on update cascade, primary key(id)) ENGINE=InnoDB\n"
     ]
    },
    {
     "name": "stderr",
     "output_type": "stream",
     "text": [
      "C:\\ProgramData\\Anaconda3\\envs\\my-rdkit-env\\lib\\site-packages\\ipykernel_launcher.py:21: SettingWithCopyWarning: \n",
      "A value is trying to be set on a copy of a slice from a DataFrame\n",
      "\n",
      "See the caveats in the documentation: https://pandas.pydata.org/pandas-docs/stable/user_guide/indexing.html#returning-a-view-versus-a-copy\n"
     ]
    },
    {
     "name": "stdout",
     "output_type": "stream",
     "text": [
      "The columns number = 59\n",
      "CREATE TABLE if not exists pERK_PC9__WT__HTRF__4_hour___IC95__uM_ (id integer not null auto_increment, Molecule_id varchar(128) unique, pERK_PC9__WT__HTRF__4_hour___IC95__uM_ varchar(20), mean double, count varchar(200), data text, mol_id integer,constraint foreign key (mol_id) references ikenacomps(id) on delete cascade on update cascade, primary key(id)) ENGINE=InnoDB\n"
     ]
    },
    {
     "name": "stderr",
     "output_type": "stream",
     "text": [
      "C:\\ProgramData\\Anaconda3\\envs\\my-rdkit-env\\lib\\site-packages\\ipykernel_launcher.py:21: SettingWithCopyWarning: \n",
      "A value is trying to be set on a copy of a slice from a DataFrame\n",
      "\n",
      "See the caveats in the documentation: https://pandas.pydata.org/pandas-docs/stable/user_guide/indexing.html#returning-a-view-versus-a-copy\n"
     ]
    },
    {
     "name": "stdout",
     "output_type": "stream",
     "text": [
      "The columns number = 60\n",
      "CREATE TABLE if not exists pERK_PC9__WT__HTRF__4_hour___Average_IC50__nM_ (id integer not null auto_increment, Molecule_id varchar(128) unique, pERK_PC9__WT__HTRF__4_hour___Average_IC50__nM_ varchar(20), mean double, count varchar(200), data text, mol_id integer,constraint foreign key (mol_id) references ikenacomps(id) on delete cascade on update cascade, primary key(id)) ENGINE=InnoDB\n"
     ]
    },
    {
     "name": "stderr",
     "output_type": "stream",
     "text": [
      "C:\\ProgramData\\Anaconda3\\envs\\my-rdkit-env\\lib\\site-packages\\ipykernel_launcher.py:21: SettingWithCopyWarning: \n",
      "A value is trying to be set on a copy of a slice from a DataFrame\n",
      "\n",
      "See the caveats in the documentation: https://pandas.pydata.org/pandas-docs/stable/user_guide/indexing.html#returning-a-view-versus-a-copy\n"
     ]
    },
    {
     "name": "stdout",
     "output_type": "stream",
     "text": [
      "The columns number = 61\n",
      "CREATE TABLE if not exists WT_KRas_CRAF_GMPPNP_HTRF__IC50__uM_ (id integer not null auto_increment, Molecule_id varchar(128) unique, WT_KRas_CRAF_GMPPNP_HTRF__IC50__uM_ varchar(20), mean double, count varchar(200), data text, mol_id integer,constraint foreign key (mol_id) references ikenacomps(id) on delete cascade on update cascade, primary key(id)) ENGINE=InnoDB\n"
     ]
    },
    {
     "name": "stderr",
     "output_type": "stream",
     "text": [
      "C:\\ProgramData\\Anaconda3\\envs\\my-rdkit-env\\lib\\site-packages\\ipykernel_launcher.py:21: SettingWithCopyWarning: \n",
      "A value is trying to be set on a copy of a slice from a DataFrame\n",
      "\n",
      "See the caveats in the documentation: https://pandas.pydata.org/pandas-docs/stable/user_guide/indexing.html#returning-a-view-versus-a-copy\n"
     ]
    },
    {
     "name": "stdout",
     "output_type": "stream",
     "text": [
      "The columns number = 62\n",
      "CREATE TABLE if not exists WT_KRas_CRAF_GMPPNP_HTRF__Average_IC50__nM_ (id integer not null auto_increment, Molecule_id varchar(128) unique, WT_KRas_CRAF_GMPPNP_HTRF__Average_IC50__nM_ varchar(20), mean double, count varchar(200), data text, mol_id integer,constraint foreign key (mol_id) references ikenacomps(id) on delete cascade on update cascade, primary key(id)) ENGINE=InnoDB\n"
     ]
    },
    {
     "name": "stderr",
     "output_type": "stream",
     "text": [
      "C:\\ProgramData\\Anaconda3\\envs\\my-rdkit-env\\lib\\site-packages\\ipykernel_launcher.py:21: SettingWithCopyWarning: \n",
      "A value is trying to be set on a copy of a slice from a DataFrame\n",
      "\n",
      "See the caveats in the documentation: https://pandas.pydata.org/pandas-docs/stable/user_guide/indexing.html#returning-a-view-versus-a-copy\n"
     ]
    },
    {
     "name": "stdout",
     "output_type": "stream",
     "text": [
      "The columns number = 63\n",
      "CREATE TABLE if not exists WT_KRas__GTP_HTRF__Average_IC50__nM_ (id integer not null auto_increment, Molecule_id varchar(128) unique, WT_KRas__GTP_HTRF__Average_IC50__nM_ varchar(20), mean double, count varchar(200), data text, mol_id integer,constraint foreign key (mol_id) references ikenacomps(id) on delete cascade on update cascade, primary key(id)) ENGINE=InnoDB\n"
     ]
    },
    {
     "name": "stderr",
     "output_type": "stream",
     "text": [
      "C:\\ProgramData\\Anaconda3\\envs\\my-rdkit-env\\lib\\site-packages\\ipykernel_launcher.py:21: SettingWithCopyWarning: \n",
      "A value is trying to be set on a copy of a slice from a DataFrame\n",
      "\n",
      "See the caveats in the documentation: https://pandas.pydata.org/pandas-docs/stable/user_guide/indexing.html#returning-a-view-versus-a-copy\n"
     ]
    },
    {
     "name": "stdout",
     "output_type": "stream",
     "text": [
      "The columns number = 64\n",
      "CREATE TABLE if not exists log_P (id integer not null auto_increment, Molecule_id varchar(128) unique, log_P varchar(20), mean double, count varchar(200), data text, mol_id integer,constraint foreign key (mol_id) references ikenacomps(id) on delete cascade on update cascade, primary key(id)) ENGINE=InnoDB\n"
     ]
    },
    {
     "name": "stderr",
     "output_type": "stream",
     "text": [
      "C:\\ProgramData\\Anaconda3\\envs\\my-rdkit-env\\lib\\site-packages\\ipykernel_launcher.py:21: SettingWithCopyWarning: \n",
      "A value is trying to be set on a copy of a slice from a DataFrame\n",
      "\n",
      "See the caveats in the documentation: https://pandas.pydata.org/pandas-docs/stable/user_guide/indexing.html#returning-a-view-versus-a-copy\n"
     ]
    },
    {
     "name": "stdout",
     "output_type": "stream",
     "text": [
      "The columns number = 65\n",
      "CREATE TABLE if not exists log_D (id integer not null auto_increment, Molecule_id varchar(128) unique, log_D varchar(20), mean double, count varchar(200), data text, mol_id integer,constraint foreign key (mol_id) references ikenacomps(id) on delete cascade on update cascade, primary key(id)) ENGINE=InnoDB\n"
     ]
    },
    {
     "name": "stderr",
     "output_type": "stream",
     "text": [
      "C:\\ProgramData\\Anaconda3\\envs\\my-rdkit-env\\lib\\site-packages\\ipykernel_launcher.py:21: SettingWithCopyWarning: \n",
      "A value is trying to be set on a copy of a slice from a DataFrame\n",
      "\n",
      "See the caveats in the documentation: https://pandas.pydata.org/pandas-docs/stable/user_guide/indexing.html#returning-a-view-versus-a-copy\n"
     ]
    },
    {
     "name": "stdout",
     "output_type": "stream",
     "text": [
      "The columns number = 66\n",
      "CREATE TABLE if not exists Topological_polar_surface_area (id integer not null auto_increment, Molecule_id varchar(128) unique, Topological_polar_surface_area varchar(20), mean double, count varchar(200), data text, mol_id integer,constraint foreign key (mol_id) references ikenacomps(id) on delete cascade on update cascade, primary key(id)) ENGINE=InnoDB\n"
     ]
    },
    {
     "name": "stderr",
     "output_type": "stream",
     "text": [
      "C:\\ProgramData\\Anaconda3\\envs\\my-rdkit-env\\lib\\site-packages\\ipykernel_launcher.py:21: SettingWithCopyWarning: \n",
      "A value is trying to be set on a copy of a slice from a DataFrame\n",
      "\n",
      "See the caveats in the documentation: https://pandas.pydata.org/pandas-docs/stable/user_guide/indexing.html#returning-a-view-versus-a-copy\n"
     ]
    }
   ],
   "source": [
    "i = 1\n",
    "for x in cols:\n",
    "    \n",
    "    print(\"The columns number = {}\".format(i))\n",
    "    i = i + 1\n",
    "\n",
    "    table = \"_\".join([y for y in re.split('[-\\%\\*\\/\\:\\(\\)& ]',x)])\n",
    "    sql = 'DROP TABLE IF EXISTS {} CASCADE;'.format(table)\n",
    "    cur.execute(sql)\n",
    "    sql = 'CREATE TABLE if not exists {} (id integer not null auto_increment, Molecule_id varchar(128) unique, '\\\n",
    "     '{} varchar(20), mean double, '\\\n",
    "     'count varchar(200), data text, ' \\\n",
    "     'mol_id integer,'\\\n",
    "     'constraint foreign key (mol_id) '\\\n",
    "     'references ikenacomps(id) on delete cascade on update cascade, '\\\n",
    "     'primary key(id)) ENGINE=InnoDB'.format(table,table)\n",
    "    print(sql)\n",
    "    cur.execute(sql)\n",
    "  \n",
    "    df1 = df[['Molecule Name','CXSMILES (CDD Compatible)',x]]\n",
    "    df1.dropna(subset=[x],inplace=True)\n",
    "    df1 = pd.DataFrame(df1.groupby(\"Molecule Name\").apply(calc_aggregation, x))\n",
    "    \n",
    "    id_s = []\n",
    "    \n",
    "    for _,y in df1.iterrows():\n",
    "        \n",
    "        if(y['Molecule Name'] not in id_s):\n",
    " \n",
    "            sql = 'insert into {} (Molecule_id, {}, mean, count, data) '\\\n",
    "                  'values (%s,%s,%s,%s,%s)'.format(table,table)\n",
    "\n",
    "            cur.execute(sql,(y['Molecule Name'],y[x],y['mean'],y['count'],y['data']))\n",
    "\n",
    "            id_s.append(y['Molecule Name'])\n",
    "            \n",
    "    sql = 'update {} set mol_id = (select ikenacomps.id from ikenacomps ' \\\n",
    "          'where ikenacomps.Molecule_id = {}.Molecule_id)'.format(table,table)\n",
    "    \n",
    "    cur.execute(sql,())"
   ]
  },
  {
   "cell_type": "code",
   "execution_count": null,
   "id": "f59aed3a",
   "metadata": {},
   "outputs": [],
   "source": []
  },
  {
   "cell_type": "markdown",
   "id": "c8d7ad63",
   "metadata": {},
   "source": [
    "# Standardization"
   ]
  },
  {
   "cell_type": "code",
   "execution_count": 83,
   "id": "e78afa86",
   "metadata": {},
   "outputs": [],
   "source": [
    "s= Standardizer()\n",
    "remover = SaltRemover(defnData=\"[Cl,Br,Na,K,F,I,Mg,Ca]\")\n",
    "df['smiles'] = df['CXSMILES (CDD Compatible)'].apply(lambda x: Chem.MolToSmiles(s.standardize(remover.StripMol(Chem.MolFromSmiles(x)))))"
   ]
  },
  {
   "cell_type": "code",
   "execution_count": 84,
   "id": "377b159e",
   "metadata": {},
   "outputs": [],
   "source": [
    "df['HeavyAtomCount'] = df['smiles'].apply(lambda x: HeavyAtomCount(Chem.MolFromSmiles(x)))"
   ]
  },
  {
   "cell_type": "code",
   "execution_count": 85,
   "id": "62ebe0f5",
   "metadata": {},
   "outputs": [],
   "source": [
    "df.drop_duplicates(subset=['smiles'],inplace=True)"
   ]
  },
  {
   "cell_type": "code",
   "execution_count": 86,
   "id": "5408d7ae",
   "metadata": {},
   "outputs": [],
   "source": [
    "df['frags'] = df['smiles'].apply(lambda x: rdMMPA.FragmentMol(Chem.MolFromSmiles(x), pattern=\"[#6+0;!$(*=,#[!#6])]!@!=!#[*]\", resultsAsMols=False))"
   ]
  },
  {
   "cell_type": "code",
   "execution_count": 87,
   "id": "c2a06422",
   "metadata": {},
   "outputs": [],
   "source": [
    "index = index_from_smiles_re(df)"
   ]
  },
  {
   "cell_type": "code",
   "execution_count": 88,
   "id": "11d2f825",
   "metadata": {},
   "outputs": [],
   "source": [
    "def mol_with_atom_index(mol):\n",
    "    for atom in mol.GetAtoms():\n",
    "        atom.SetAtomMapNum(atom.GetIdx())\n",
    "    return mol"
   ]
  },
  {
   "cell_type": "code",
   "execution_count": 89,
   "id": "b88e64bc",
   "metadata": {},
   "outputs": [],
   "source": [
    "def get_context_type(context):\n",
    "\n",
    "    mol = Chem.MolFromSmiles(context)\n",
    "    mol = mol_with_atom_index(mol)\n",
    "    \n",
    "    atomindex = []\n",
    "    atoms = {}\n",
    "    neigh = {}\n",
    "    lv1_keys = []\n",
    "    \n",
    "    for atom in mol.GetAtoms():\n",
    "        atoms[atom.GetIdx()] = atom\n",
    "        neigh[atom.GetIdx()] = atom.GetNeighbors()\n",
    "\n",
    "        if(atom.GetMass()==0):\n",
    "            atomindex.append(atom.GetIdx())\n",
    "            lv1_keys.append(atom.GetIdx())\n",
    "    \n",
    "    str_ = []\n",
    "    for keys in lv1_keys:\n",
    "        for values in neigh[keys]:\n",
    "            if(values.GetIsAromatic()):\n",
    "                str_.append(\"a\")\n",
    "            else:\n",
    "                str_.append(\"A\")\n",
    "                \n",
    "    return \"\".join(str_)"
   ]
  },
  {
   "cell_type": "code",
   "execution_count": 90,
   "id": "2519d9b4",
   "metadata": {},
   "outputs": [
    {
     "name": "stdout",
     "output_type": "stream",
     "text": [
      "total time taken this loop:  61.03091359138489\n"
     ]
    }
   ],
   "source": [
    "import time\n",
    "start_time = time.time()\n",
    "\n",
    "transform_lev0 = []\n",
    "context_type = []\n",
    "id_left = []\n",
    "id_right = []\n",
    "contextcont = []\n",
    "\n",
    "for key in index:\n",
    "    total = len(index[key])\n",
    "    if(total == 1):  # Meaning that this context does not have any Mathed Pairs therefore exit the for loop\n",
    "        continue\n",
    "    for xa in range(total-1):\n",
    "        for xb in range(xa+1,total):\n",
    "            if(xa != xb):\n",
    "                id_a,core_a = index[key][xa].split(\";t\")\n",
    "                id_b,core_b = index[key][xb].split(\";t\")\n",
    "                if(id_a != id_b):\n",
    "                    if(core_a != core_b):\n",
    "                        smirks,context = cansmirk(core_a,core_b,key)\n",
    "                        id_a = int(id_a)\n",
    "                        id_b = int(id_b)\n",
    "                        context_type.append(get_context_type(context))\n",
    "                        transform_lev0.append(smirks)\n",
    "                        contextcont.append(context)\n",
    "                        id_left.append(df.loc[id_a]['Molecule Name'])\n",
    "                        id_right.append(df.loc[id_b]['Molecule Name'])\n",
    "                        \n",
    "end_time = time.time()\n",
    "print(\"total time taken this loop: \", end_time - start_time)"
   ]
  },
  {
   "cell_type": "code",
   "execution_count": 91,
   "id": "f7015d7b",
   "metadata": {},
   "outputs": [],
   "source": [
    "df_mmp_lev0 = pd.DataFrame({'Reference_id' :id_left,\n",
    "                           'Query_id' :id_right,\n",
    "                           'transform' : transform_lev0,\n",
    "                           'Ref_Context' :context_type,\n",
    "                           'Query_Context' :context_type,\n",
    "                           'Context': contextcont}\n",
    "                          )"
   ]
  },
  {
   "cell_type": "code",
   "execution_count": 92,
   "id": "016b0566",
   "metadata": {},
   "outputs": [
    {
     "data": {
      "text/plain": [
       "(41356, 6)"
      ]
     },
     "execution_count": 92,
     "metadata": {},
     "output_type": "execute_result"
    }
   ],
   "source": [
    "df_mmp_lev0.shape"
   ]
  },
  {
   "cell_type": "markdown",
   "id": "1737c028",
   "metadata": {},
   "source": [
    "# Create tables for transform, lhs, context and mmp_master_table"
   ]
  },
  {
   "cell_type": "code",
   "execution_count": 93,
   "id": "59861ad2",
   "metadata": {},
   "outputs": [],
   "source": [
    "# sql = 'DROP TABLE IF EXISTS transform CASCADE;'\n",
    "# print(sql)\n",
    "# cur.execute(sql)\n",
    "# sql = 'DROP TABLE IF EXISTS transform_left CASCADE;'\n",
    "# print(sql)\n",
    "# cur.execute(sql)\n",
    "# sql = 'DROP TABLE IF EXISTS context CASCADE;'\n",
    "# print(sql)\n",
    "# cur.execute(sql)\n",
    "# sql = 'DROP TABLE IF EXISTS context_type CASCADE;'\n",
    "# print(sql)\n",
    "# cur.execute(sql)\n",
    "# sql = 'DROP TABLE IF EXISTS mmp CASCADE;'\n",
    "# print(sql)\n",
    "# cur.execute(sql)"
   ]
  },
  {
   "cell_type": "code",
   "execution_count": 94,
   "id": "90176388",
   "metadata": {
    "scrolled": true
   },
   "outputs": [
    {
     "name": "stdout",
     "output_type": "stream",
     "text": [
      "CREATE TABLE if not exists transform (id integer not null auto_increment,transform varchar(250) binary unique,primary key(id)) ENGINE=InnoDB\n",
      "CREATE TABLE if not exists transform_left (id integer not null auto_increment,transform_left varchar(250) binary unique,primary key(id)) ENGINE=InnoDB\n",
      "CREATE TABLE if not exists context (id integer not null auto_increment,context varchar(250) binary unique,primary key(id)) ENGINE=InnoDB\n",
      "CREATE TABLE if not exists context_type (id integer not null auto_increment,context_type varchar(250) binary unique,primary key(id)) ENGINE=InnoDB\n",
      "create table if not exists mmp (id integer not null auto_increment, ref_id varchar(50), id_a integer, query_id varchar(50), id_b integer, transform varchar(250), transform_id integer, lhs varchar(250), lhs_id integer, context_t varchar(10), context_t_id integer, context varchar(250), context_id integer, primary key(id)) ENGINE=InnoDB\n"
     ]
    }
   ],
   "source": [
    "sql = 'CREATE TABLE if not exists transform (id integer not null auto_increment,'\\\n",
    "      'transform varchar(250) binary unique,' \\\n",
    "     'primary key(id)) ENGINE=InnoDB'\n",
    "print(sql)\n",
    "cur.execute(sql)\n",
    "sql = 'CREATE TABLE if not exists transform_left (id integer not null auto_increment,'\\\n",
    "      'transform_left varchar(250) binary unique,' \\\n",
    "     'primary key(id)) ENGINE=InnoDB'\n",
    "print(sql)\n",
    "cur.execute(sql)\n",
    "sql = 'CREATE TABLE if not exists context (id integer not null auto_increment,'\\\n",
    "      'context varchar(250) binary unique,' \\\n",
    "     'primary key(id)) ENGINE=InnoDB'\n",
    "print(sql)\n",
    "cur.execute(sql)\n",
    "sql = 'CREATE TABLE if not exists context_type (id integer not null auto_increment,'\\\n",
    "      'context_type varchar(250) binary unique,' \\\n",
    "     'primary key(id)) ENGINE=InnoDB'\n",
    "print(sql)\n",
    "cur.execute(sql)\n",
    "sql = 'create table if not exists mmp (id integer not null auto_increment, ref_id varchar(50), id_a integer, '\\\n",
    "      'query_id varchar(50), id_b integer, transform varchar(250), transform_id integer, ' \\\n",
    "      'lhs varchar(250), lhs_id integer, context_t varchar(10), context_t_id integer, ' \\\n",
    "      'context varchar(250), context_id integer, primary key(id)) ENGINE=InnoDB'\n",
    "print(sql)\n",
    "cur.execute(sql)"
   ]
  },
  {
   "cell_type": "code",
   "execution_count": 95,
   "id": "4bedb206",
   "metadata": {},
   "outputs": [],
   "source": [
    "transforms = []\n",
    "one_side = []\n",
    "context = []\n",
    "context_t = []\n",
    "\n",
    "for _,x in df_mmp_lev0.iterrows():\n",
    "    \n",
    "    trans_a,trans_b = x['transform'].split(\">>\")\n",
    "    opposite_transform = trans_b+\">>\"+trans_a\n",
    "    \n",
    "    if(x['transform'] not in transforms):\n",
    "        sql = 'INSERT INTO transform (transform) VALUES (%s);'\n",
    "        cur.execute(sql, (x['transform'], ))\n",
    "        transforms.append(x['transform'])\n",
    "        \n",
    "    if(opposite_transform not in transforms):\n",
    "        sql = 'insert into transform (transform) values (%s);'\n",
    "        cur.execute(sql,(opposite_transform, ))\n",
    "        transforms.append(opposite_transform)\n",
    "        \n",
    "    if(trans_a not in one_side):\n",
    "        sql = 'insert into transform_left (transform_left) values (%s);'\n",
    "        cur.execute(sql,(trans_a, ))\n",
    "        one_side.append(trans_a)\n",
    "        \n",
    "    if(trans_b not in one_side):\n",
    "        sql = 'insert into transform_left (transform_left) values (%s);'\n",
    "        cur.execute(sql,(trans_b, ))\n",
    "        one_side.append(trans_b)\n",
    "        \n",
    "    if(x['Context'] not in context):\n",
    "        sql = 'insert into context (context) values (%s);'\n",
    "        cur.execute(sql,(x['Context'], ))\n",
    "        context.append(x['Context'])  \n",
    "        \n",
    "    if(x['Ref_Context'] not in context_t):\n",
    "        sql = 'insert into context_type (context_type) values (%s);'\n",
    "        cur.execute(sql,(x['Ref_Context'], ))\n",
    "        context_t.append(x['Ref_Context']) \n",
    "        \n",
    "    sql = 'insert into mmp (ref_id,query_id,transform, lhs, context_t, context)' \\\n",
    "          'values (%s,%s,%s,%s,%s,%s);'\n",
    "    cur.execute(sql,(x['Reference_id'],x['Query_id'], x['transform'], trans_a, x['Ref_Context'], x['Context']))\n",
    "    \n",
    "    \n",
    "    sql = 'insert into mmp (ref_id,query_id,transform, lhs, context_t, context)' \\\n",
    "          'values (%s,%s,%s,%s,%s,%s);'\n",
    "    cur.execute(sql,(x['Query_id'],x['Reference_id'], opposite_transform, trans_b, x['Query_Context'], x['Context']))"
   ]
  },
  {
   "cell_type": "code",
   "execution_count": 96,
   "id": "799b7b4f",
   "metadata": {},
   "outputs": [],
   "source": [
    "sql = 'update mmp set id_a = (select ikenacomps.id from ikenacomps ' \\\n",
    "      'where ikenacomps.Molecule_id = mmp.ref_id)'\n",
    "\n",
    "cur.execute(sql,())\n",
    "\n",
    "sql = 'update mmp set id_b = (select ikenacomps.id from ikenacomps ' \\\n",
    "      'where ikenacomps.Molecule_id = mmp.query_id)'\n",
    "\n",
    "cur.execute(sql,())\n",
    "\n",
    "\n",
    "sql = 'update mmp set transform_id = (select transform.id from transform ' \\\n",
    "      'where transform.transform = mmp.transform)'\n",
    "\n",
    "cur.execute(sql,())\n",
    "\n",
    "\n",
    "sql = 'update mmp set lhs_id = (select transform_left.id from transform_left ' \\\n",
    "      'where transform_left.transform_left = mmp.lhs)'\n",
    "\n",
    "cur.execute(sql,())\n",
    "\n",
    "\n",
    "sql = 'update mmp set context_t_id = (select context_type.id from context_type ' \\\n",
    "      'where context_type.context_type = mmp.context_t)'\n",
    "\n",
    "cur.execute(sql,())\n",
    "\n",
    "\n",
    "sql = 'update mmp set context_id = (select context.id from context ' \\\n",
    "      'where context.context = mmp.context)'\n",
    "\n",
    "cur.execute(sql,())\n",
    "\n",
    "\n",
    "sql = 'alter table mmp drop column ref_id,' \\\n",
    "      'drop query_id, drop transform, drop lhs, drop context_t, drop context, drop context_t_id '\n",
    "cur.execute(sql,())  \n"
   ]
  },
  {
   "cell_type": "code",
   "execution_count": 97,
   "id": "aed44281",
   "metadata": {},
   "outputs": [],
   "source": [
    "cnx.commit()\n",
    "cnx.close()"
   ]
  }
 ],
 "metadata": {
  "kernelspec": {
   "display_name": "Python 3",
   "language": "python",
   "name": "python3"
  },
  "language_info": {
   "codemirror_mode": {
    "name": "ipython",
    "version": 3
   },
   "file_extension": ".py",
   "mimetype": "text/x-python",
   "name": "python",
   "nbconvert_exporter": "python",
   "pygments_lexer": "ipython3",
   "version": "3.6.13"
  }
 },
 "nbformat": 4,
 "nbformat_minor": 5
}

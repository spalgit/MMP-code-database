{
 "cells": [
  {
   "cell_type": "code",
   "execution_count": 1,
   "id": "8a2b6020",
   "metadata": {},
   "outputs": [],
   "source": [
    "import sys, re\n",
    "from molvs import Standardizer\n",
    "from rdkit import Chem\n",
    "import pandas as pd\n",
    "import numpy as np\n",
    "import mysql.connector\n",
    "from mysql.connector import errorcode\n",
    "import operator\n",
    "from rdkit.Chem.SaltRemover import SaltRemover\n",
    "import sys\n",
    "import re\n",
    "from rdkit import Chem\n",
    "from rdkit.Chem.Draw import rdMolDraw2D\n",
    "from optparse import OptionParser\n",
    "import pandas as pd\n",
    "import numpy as np\n",
    "from rdkit.Chem.Descriptors import MolWt, HeavyAtomCount,MolLogP, RingCount, NumAromaticRings, NumHDonors, NumHAcceptors\n",
    "from rdkit.Chem.Descriptors import NumAromaticRings, qed\n",
    "from rdkit.Chem.QED import QEDproperties\n",
    "from rdkit.Chem import rdMMPA\n",
    "from indexing_call_as_function import cansmirk,add_context_to_smirks,index_from_smiles_re,gen_queries,gen_queries_for_H_transform,add_context_to_lhs\n",
    "from rdkit.Chem.Draw import IPythonConsole\n",
    "from rdkit.Chem.MolStandardize import rdMolStandardize\n",
    "from rdkit.Chem import Draw\n",
    "from rdkit.Chem import AllChem\n",
    "from molvs import standardize_smiles, Standardizer\n",
    "from rdkit.Chem.AllChem import GetMorganFingerprintAsBitVect\n",
    "from rdkit.Chem.SaltRemover import SaltRemover\n",
    "\n",
    "import numpy as np\n",
    "import pandas as pd\n",
    "# import seaborn as sn\n",
    "# import matplotlib.pyplot as plt\n",
    "import matplotlib.cm as cm\n",
    "from matplotlib.colors import ListedColormap, BoundaryNorm\n",
    "from sklearn import neighbors\n",
    "import matplotlib.patches as mpatches\n",
    "# import graphviz\n",
    "from sklearn.tree import export_graphviz\n",
    "import matplotlib.patches as mpatches"
   ]
  },
  {
   "cell_type": "markdown",
   "id": "cfe0313c",
   "metadata": {},
   "source": [
    "# Download the data and prepare"
   ]
  },
  {
   "cell_type": "code",
   "execution_count": 2,
   "id": "883085b7",
   "metadata": {},
   "outputs": [],
   "source": [
    "df_t_half = pd.read_csv('../MMP_files/Chembl_t_half.csv')\n",
    "df_cl = pd.read_csv('../MMP_files/Clearance.csv')\n",
    "df_bio = pd.read_csv('../MMP_files/Bioavail_All_Chembl.csv')\n",
    "df_vdss = pd.read_csv('../MMP_files/Vdss_All_Chembl.csv')\n",
    "df_herg = pd.read_csv('../MMP_files/Chembl_herg.csv')"
   ]
  },
  {
   "cell_type": "code",
   "execution_count": 3,
   "id": "75bac342",
   "metadata": {},
   "outputs": [],
   "source": [
    "df_0 = pd.read_csv('../MMP_files/Chembl_t_half.csv')\n",
    "df_1 = pd.read_csv('../MMP_files/Clearance.csv')\n",
    "df_2 = pd.read_csv('../MMP_files/Bioavail_All_Chembl.csv')\n",
    "df_3 = pd.read_csv('../MMP_files/Vdss_All_Chembl.csv')\n",
    "df_4 = pd.read_csv('../MMP_files/Chembl_herg.csv')"
   ]
  },
  {
   "cell_type": "code",
   "execution_count": 4,
   "id": "f3d70c43",
   "metadata": {},
   "outputs": [],
   "source": [
    "df_0.dropna(subset = ['canonical_smiles'], inplace=True)\n",
    "df_1.dropna(subset = ['canonical_smiles'], inplace=True)\n",
    "df_2.dropna(subset = ['canonical_smiles'], inplace=True)\n",
    "df_3.dropna(subset = ['canonical_smiles'], inplace=True)\n",
    "df_4.dropna(subset = ['canonical_smiles'], inplace=True)"
   ]
  },
  {
   "cell_type": "code",
   "execution_count": 5,
   "id": "0799dc7e",
   "metadata": {},
   "outputs": [],
   "source": [
    "df_0['MW'] = df_0['canonical_smiles'].apply(lambda x: MolWt(Chem.MolFromSmiles(x)))\n",
    "df_1['MW'] = df_1['canonical_smiles'].apply(lambda x: MolWt(Chem.MolFromSmiles(x)))\n",
    "df_2['MW'] = df_2['canonical_smiles'].apply(lambda x: MolWt(Chem.MolFromSmiles(x)))\n",
    "df_3['MW'] = df_3['canonical_smiles'].apply(lambda x: MolWt(Chem.MolFromSmiles(x)))\n",
    "df_4['MW'] = df_4['canonical_smiles'].apply(lambda x: MolWt(Chem.MolFromSmiles(x)))"
   ]
  },
  {
   "cell_type": "code",
   "execution_count": 6,
   "id": "87999dd4",
   "metadata": {},
   "outputs": [
    {
     "data": {
      "text/plain": [
       "(1434, 35476, 5260, 13009, 10154)"
      ]
     },
     "execution_count": 6,
     "metadata": {},
     "output_type": "execute_result"
    }
   ],
   "source": [
    "df_0.shape[0],df_1.shape[0],df_2.shape[0],df_3.shape[0],df_4.shape[0],"
   ]
  },
  {
   "cell_type": "code",
   "execution_count": 7,
   "id": "b64a584c",
   "metadata": {},
   "outputs": [],
   "source": [
    "df_0 = df_0[df_0['MW']<=600]\n",
    "df_1 = df_1[df_1['MW']<=600]\n",
    "df_2 = df_2[df_2['MW']<=600]\n",
    "df_3 = df_3[df_3['MW']<=600]\n",
    "df_4 = df_4[df_4['MW']<=600]"
   ]
  },
  {
   "cell_type": "code",
   "execution_count": 8,
   "id": "41404929",
   "metadata": {},
   "outputs": [
    {
     "data": {
      "text/plain": [
       "(1158, 32184, 4574, 11807, 9788)"
      ]
     },
     "execution_count": 8,
     "metadata": {},
     "output_type": "execute_result"
    }
   ],
   "source": [
    "df_0.shape[0],df_1.shape[0],df_2.shape[0],df_3.shape[0],df_4.shape[0]"
   ]
  },
  {
   "cell_type": "code",
   "execution_count": 9,
   "id": "ee46e157",
   "metadata": {},
   "outputs": [],
   "source": [
    "# cols = ['Chembl_half_life',\n",
    "#         'Chembl_clearance',\n",
    "#         'Chembl_bioavailability',\n",
    "#         'Chembl_vdss',\n",
    "#         'Chembl_hERG']"
   ]
  },
  {
   "cell_type": "code",
   "execution_count": 10,
   "id": "674cc968",
   "metadata": {},
   "outputs": [],
   "source": [
    "files = ['../MMP_files/Clearance.csv',\n",
    "        '../MMP_files/Chembl_t_half.csv',\n",
    "        '../MMP_files/Bioavail_All_Chembl.csv',\n",
    "        '../MMP_files/Chembl_herg.csv',\n",
    "        '../MMP_files/Vdss_All_Chembl.csv',\n",
    "        ]"
   ]
  },
  {
   "cell_type": "code",
   "execution_count": 11,
   "id": "856eeb2e",
   "metadata": {},
   "outputs": [],
   "source": [
    "cols = ['Chembl_clearance',\n",
    "        'Chembl_half_life',\n",
    "        'Chembl_bioavailability',\n",
    "        'Chembl_hERG',\n",
    "        'Chembl_vdss'\n",
    "        ]"
   ]
  },
  {
   "cell_type": "code",
   "execution_count": 12,
   "id": "339199d3",
   "metadata": {},
   "outputs": [],
   "source": [
    "# df_t_half = df_t_half[df_t_half['standard_type']=='T1/2']"
   ]
  },
  {
   "cell_type": "code",
   "execution_count": 13,
   "id": "e3b0ad3e",
   "metadata": {},
   "outputs": [
    {
     "data": {
      "text/plain": [
       "21315"
      ]
     },
     "execution_count": 13,
     "metadata": {},
     "output_type": "execute_result"
    }
   ],
   "source": [
    "len(set([x for x in df_cl['molecule_chembl_id']]))"
   ]
  },
  {
   "cell_type": "code",
   "execution_count": 14,
   "id": "08e584be",
   "metadata": {},
   "outputs": [
    {
     "data": {
      "text/plain": [
       "(35061, 11)"
      ]
     },
     "execution_count": 14,
     "metadata": {},
     "output_type": "execute_result"
    }
   ],
   "source": [
    "df_cl[df_cl['standard_type']!='CL/F'].shape"
   ]
  },
  {
   "cell_type": "markdown",
   "id": "ee125856",
   "metadata": {},
   "source": [
    "# Upload chembl compounds into the database"
   ]
  },
  {
   "cell_type": "code",
   "execution_count": 15,
   "id": "a7eb1c5d",
   "metadata": {},
   "outputs": [],
   "source": [
    "config = {  'user': 'sandeep',\n",
    "  'password': 'sql',\n",
    "  'host': 'localhost',\n",
    "  'database': 'mmpdb',\n",
    "  'raise_on_warnings': True,\n",
    "}\n",
    "\n",
    "link = mysql.connector.connect(**config)"
   ]
  },
  {
   "cell_type": "code",
   "execution_count": 16,
   "id": "e4307102",
   "metadata": {},
   "outputs": [],
   "source": [
    "cnx= mysql.connector.connect(**config)\n",
    "cur = cnx.cursor()"
   ]
  },
  {
   "cell_type": "code",
   "execution_count": 17,
   "id": "7e888387",
   "metadata": {},
   "outputs": [],
   "source": [
    "# i = 0\n",
    "# for i in range(len(cols)):\n",
    "    \n",
    "# #     print(cols[i])\n",
    "    \n",
    "#     df_ = pd.read_csv(files[i])\n",
    "    \n",
    "#     sql = 'DROP TABLE IF EXISTS {} CASCADE;'.format(cols[i])\n",
    "#     cur.execute(sql)"
   ]
  },
  {
   "cell_type": "code",
   "execution_count": 18,
   "id": "510a3e07",
   "metadata": {},
   "outputs": [],
   "source": [
    "# cur.execute('DROP TABLE IF EXISTS ikenacomps')"
   ]
  },
  {
   "cell_type": "code",
   "execution_count": 19,
   "id": "2b5fa13f",
   "metadata": {},
   "outputs": [],
   "source": [
    "# \n",
    "df = pd.concat([df_0,df_1,df_2,df_3,df_4])\n",
    "\n",
    "df.dropna(subset = ['canonical_smiles'], inplace=True)"
   ]
  },
  {
   "cell_type": "code",
   "execution_count": 20,
   "id": "23795a5e",
   "metadata": {
    "scrolled": true
   },
   "outputs": [],
   "source": [
    "id_s = []\n",
    "for _, x in df.iterrows():\n",
    "    \n",
    "    if (x['molecule_chembl_id'] not in id_s):        \n",
    "        sql = 'INSERT INTO ikenacomps (Molecule_id, CXCSmiles ) ' \\\n",
    "            ' VALUES (%s, %s)'\n",
    "        cur.execute(sql,(x['molecule_chembl_id'],x['canonical_smiles']\n",
    "                        ))\n",
    "        id_s.append(x['molecule_chembl_id'])"
   ]
  },
  {
   "cell_type": "code",
   "execution_count": 21,
   "id": "45df655d",
   "metadata": {},
   "outputs": [],
   "source": [
    "def calc_aggregation(group,name):\n",
    "    name_mean = name+\"_mean\";\n",
    "    name_count = name+\"_count\";\n",
    "    name_std = name+\"_std\";\n",
    "    name_data = name+\"_data\"\n",
    "#     print([re.sub('[><= ]+ ','',str(x)) for x in group[name]])\n",
    "    out = [float(re.sub('[><= ]+ ','',str(x))) for x in group[name]]\n",
    "    group['mean'] = \"{:0.2f}\".format(np.mean(out))\n",
    "    group['count'] = np.size(out)\n",
    "    if(np.size(out) >1):     \n",
    "        group['std_dev']= \"{:0.2f}\".format(np.std(out,ddof=1))\n",
    "    else:\n",
    "        group['std_dev']= 0.0\n",
    "    group['data'] = \";\".join([str(x) for x in group[name]])\n",
    "    return group"
   ]
  },
  {
   "cell_type": "markdown",
   "id": "00142a53",
   "metadata": {},
   "source": [
    "# Create tables for Chembl ADMET and Herg"
   ]
  },
  {
   "cell_type": "code",
   "execution_count": 22,
   "id": "fdba9b5e",
   "metadata": {
    "scrolled": false
   },
   "outputs": [
    {
     "name": "stderr",
     "output_type": "stream",
     "text": [
      "C:\\ProgramData\\Anaconda3\\envs\\my-rdkit-env\\lib\\site-packages\\ipykernel_launcher.py:27: SettingWithCopyWarning: \n",
      "A value is trying to be set on a copy of a slice from a DataFrame\n",
      "\n",
      "See the caveats in the documentation: https://pandas.pydata.org/pandas-docs/stable/user_guide/indexing.html#returning-a-view-versus-a-copy\n",
      "C:\\ProgramData\\Anaconda3\\envs\\my-rdkit-env\\lib\\site-packages\\ipykernel_launcher.py:27: SettingWithCopyWarning: \n",
      "A value is trying to be set on a copy of a slice from a DataFrame\n",
      "\n",
      "See the caveats in the documentation: https://pandas.pydata.org/pandas-docs/stable/user_guide/indexing.html#returning-a-view-versus-a-copy\n",
      "C:\\ProgramData\\Anaconda3\\envs\\my-rdkit-env\\lib\\site-packages\\ipykernel_launcher.py:27: SettingWithCopyWarning: \n",
      "A value is trying to be set on a copy of a slice from a DataFrame\n",
      "\n",
      "See the caveats in the documentation: https://pandas.pydata.org/pandas-docs/stable/user_guide/indexing.html#returning-a-view-versus-a-copy\n",
      "C:\\ProgramData\\Anaconda3\\envs\\my-rdkit-env\\lib\\site-packages\\ipykernel_launcher.py:27: SettingWithCopyWarning: \n",
      "A value is trying to be set on a copy of a slice from a DataFrame\n",
      "\n",
      "See the caveats in the documentation: https://pandas.pydata.org/pandas-docs/stable/user_guide/indexing.html#returning-a-view-versus-a-copy\n",
      "C:\\ProgramData\\Anaconda3\\envs\\my-rdkit-env\\lib\\site-packages\\ipykernel_launcher.py:27: SettingWithCopyWarning: \n",
      "A value is trying to be set on a copy of a slice from a DataFrame\n",
      "\n",
      "See the caveats in the documentation: https://pandas.pydata.org/pandas-docs/stable/user_guide/indexing.html#returning-a-view-versus-a-copy\n"
     ]
    }
   ],
   "source": [
    "i = 0\n",
    "for i in range(len(cols)):\n",
    "    \n",
    "#     print(cols[i])\n",
    "    \n",
    "    df_ = pd.read_csv(files[i])\n",
    "    \n",
    "#     sql = 'DROP TABLE IF EXISTS {} CASCADE;'.format(cols[i])\n",
    "#     cur.execute(sql)\n",
    "\n",
    "    sql = 'CREATE TABLE if not exists  {} (id integer not null auto_increment, Molecule_id varchar(128) unique, '\\\n",
    "         '{} double, mean double, ' \\\n",
    "         'std_dev varchar(20), ' \\\n",
    "         'count varchar(200), data text, ' \\\n",
    "         'mol_id integer, '\\\n",
    "         'standard_type varchar(20), ' \\\n",
    "         'standard_units varchar(20), ' \\\n",
    "         'assay_chembl_id varchar(40), ' \\\n",
    "         'assay_description text, ' \\\n",
    "         'constraint foreign key (mol_id) '\\\n",
    "         'references ikenacomps(id) on delete cascade on update cascade, '\\\n",
    "         'primary key(id)) ENGINE=InnoDB'.format(cols[i],cols[i])\n",
    "    cur.execute(sql)\n",
    "    \n",
    "    df1 = df_[['molecule_chembl_id','canonical_smiles','standard_value','standard_units','standard_type','assay_chembl_id',\n",
    "                'assay_description']]\n",
    "    df1.dropna(subset=['standard_value','standard_units'],inplace=True)\n",
    "    df1 = pd.DataFrame(df1.groupby(\"molecule_chembl_id\").apply(calc_aggregation, 'standard_value'))\n",
    "    \n",
    "    ids = []\n",
    "\n",
    "    for _,x in df1.iterrows():\n",
    "        if(x['molecule_chembl_id'] not in ids):\n",
    "            sql = 'insert into {}  (Molecule_id, {},mean,std_dev,count, data,standard_type, '\\\n",
    "                      'standard_units,assay_chembl_id,assay_description ) ' \\\n",
    "                      'values (%s,%s,%s,%s,%s,%s,%s,%s,%s,%s)'.format(cols[i],cols[i])\n",
    "\n",
    "            cur.execute(sql,(x['molecule_chembl_id'],x['standard_value'],x['mean'],x['std_dev'],x['count'],x['data']\n",
    "                            , x['standard_type'], x['standard_units'],x['assay_chembl_id'],x['assay_description']))\n",
    "\n",
    "            ids.append(x['molecule_chembl_id'])\n",
    "            \n",
    "    sql = 'update {} set mol_id = (select ikenacomps.id from ikenacomps ' \\\n",
    "          'where ikenacomps.Molecule_id = {}.Molecule_id)'.format(cols[i],cols[i])\n",
    "    \n",
    "    cur.execute(sql,())\n",
    "    \n",
    "    \n",
    "    "
   ]
  },
  {
   "cell_type": "markdown",
   "id": "4f01f579",
   "metadata": {},
   "source": [
    "# MMP analysis"
   ]
  },
  {
   "cell_type": "code",
   "execution_count": 23,
   "id": "3d666798",
   "metadata": {},
   "outputs": [],
   "source": [
    "import time"
   ]
  },
  {
   "cell_type": "code",
   "execution_count": 24,
   "id": "0017b0ff",
   "metadata": {},
   "outputs": [],
   "source": [
    "def mol_with_atom_index(mol):\n",
    "    for atom in mol.GetAtoms():\n",
    "        atom.SetAtomMapNum(atom.GetIdx())\n",
    "    return mol"
   ]
  },
  {
   "cell_type": "code",
   "execution_count": 25,
   "id": "f3cc8e5c",
   "metadata": {},
   "outputs": [],
   "source": [
    "def get_context_type(context):\n",
    "\n",
    "    mol = Chem.MolFromSmiles(context)\n",
    "    mol = mol_with_atom_index(mol)\n",
    "    \n",
    "    atomindex = []\n",
    "    atoms = {}\n",
    "    neigh = {}\n",
    "    lv1_keys = []\n",
    "    \n",
    "    for atom in mol.GetAtoms():\n",
    "        atoms[atom.GetIdx()] = atom\n",
    "        neigh[atom.GetIdx()] = atom.GetNeighbors()\n",
    "\n",
    "        if(atom.GetMass()==0):\n",
    "            atomindex.append(atom.GetIdx())\n",
    "            lv1_keys.append(atom.GetIdx())\n",
    "    \n",
    "    str_ = []\n",
    "    for keys in lv1_keys:\n",
    "        for values in neigh[keys]:\n",
    "            if(values.GetIsAromatic()):\n",
    "                str_.append(\"a\")\n",
    "            else:\n",
    "                str_.append(\"A\")\n",
    "                \n",
    "    return \"\".join(str_)"
   ]
  },
  {
   "cell_type": "code",
   "execution_count": 26,
   "id": "ab21072b",
   "metadata": {
    "scrolled": true
   },
   "outputs": [
    {
     "name": "stdout",
     "output_type": "stream",
     "text": [
      "create table if not exists mmp_chembl (id integer not null auto_increment, ref_id varchar(50), id_a integer, query_id varchar(50), id_b integer, transform varchar(250), transform_id integer, lhs varchar(250), lhs_id integer, context_t varchar(10), context_t_id integer, context varchar(250), context_id integer, primary key(id)) ENGINE=InnoDB\n"
     ]
    }
   ],
   "source": [
    "# sql = 'DROP TABLE IF EXISTS mmp_chembl CASCADE;'\n",
    "# cur.execute(sql)\n",
    "sql = 'create table if not exists mmp_chembl (id integer not null auto_increment, ref_id varchar(50), id_a integer, '\\\n",
    "      'query_id varchar(50), id_b integer, transform varchar(250), transform_id integer, ' \\\n",
    "      'lhs varchar(250), lhs_id integer, context_t varchar(10), context_t_id integer, ' \\\n",
    "      'context varchar(250), context_id integer, primary key(id)) ENGINE=InnoDB'\n",
    "print(sql)\n",
    "cur.execute(sql)"
   ]
  },
  {
   "cell_type": "code",
   "execution_count": 27,
   "id": "feb73328",
   "metadata": {},
   "outputs": [],
   "source": [
    "cur.execute(\"SELECT transform from transform\")\n",
    "transforms = cur.fetchall()\n",
    "transforms = [x[0] for x in transforms]\n",
    "\n",
    "cur.execute(\"SELECT transform_left from transform_left\")\n",
    "transform_left = cur.fetchall()\n",
    "one_side = [x[0] for x in transform_left]\n",
    "\n",
    "cur.execute(\"SELECT context from context\")\n",
    "context = cur.fetchall()\n",
    "context_cont = [x[0] for x in context]\n",
    "\n",
    "cur.execute(\"SELECT context_type from context_type\")\n",
    "context_type = cur.fetchall()\n",
    "context_t = [x[0] for x in context_type]\n"
   ]
  },
  {
   "cell_type": "code",
   "execution_count": 28,
   "id": "4d2cda9f",
   "metadata": {},
   "outputs": [
    {
     "name": "stdout",
     "output_type": "stream",
     "text": [
      "65486 3702 2946 14\n"
     ]
    }
   ],
   "source": [
    "print(len(transforms), len(one_side), len(context_cont), len(context_t))"
   ]
  },
  {
   "cell_type": "code",
   "execution_count": 29,
   "id": "81495d9d",
   "metadata": {
    "scrolled": false
   },
   "outputs": [
    {
     "name": "stdout",
     "output_type": "stream",
     "text": [
      "Number of compounds = 15210\n",
      "../MMP_files/Clearance.csv\n",
      "Starting Fragmentation\n",
      "Starting MMP\n",
      "Making MMP table\n",
      "total time taken this loop:  124.58048820495605\n",
      "Making MMP table 1. Dataframe finished\n",
      "Updating MMP table 2. Dataframe finished\n",
      "Making MMP table 3. Dataframe finished\n",
      "Number of compounds = 694\n",
      "../MMP_files/Chembl_t_half.csv\n",
      "Starting Fragmentation\n",
      "Starting MMP\n",
      "Making MMP table\n",
      "total time taken this loop:  41.74084401130676\n",
      "Making MMP table 1. Dataframe finished\n",
      "Updating MMP table 2. Dataframe finished\n",
      "Making MMP table 3. Dataframe finished\n",
      "Number of compounds = 2422\n",
      "../MMP_files/Bioavail_All_Chembl.csv\n",
      "Starting Fragmentation\n",
      "Starting MMP\n",
      "Making MMP table\n",
      "total time taken this loop:  17.027918815612793\n",
      "Making MMP table 1. Dataframe finished\n",
      "Updating MMP table 2. Dataframe finished\n",
      "Making MMP table 3. Dataframe finished\n",
      "Number of compounds = 6576\n",
      "../MMP_files/Chembl_herg.csv\n",
      "Starting Fragmentation\n",
      "Starting MMP\n",
      "Making MMP table\n",
      "total time taken this loop:  94.54447746276855\n",
      "Making MMP table 1. Dataframe finished\n",
      "Updating MMP table 2. Dataframe finished\n",
      "Making MMP table 3. Dataframe finished\n",
      "Number of compounds = 6299\n",
      "../MMP_files/Vdss_All_Chembl.csv\n",
      "Starting Fragmentation\n",
      "Starting MMP\n",
      "Making MMP table\n",
      "total time taken this loop:  25.477845191955566\n",
      "Making MMP table 1. Dataframe finished\n",
      "Updating MMP table 2. Dataframe finished\n",
      "Making MMP table 3. Dataframe finished\n"
     ]
    }
   ],
   "source": [
    "i = 0\n",
    "for i in range(len(cols)):\n",
    "    \n",
    "    df = pd.read_csv(files[i])\n",
    "    df.dropna(subset = ['canonical_smiles'], inplace=True)\n",
    "    df = df.drop_duplicates(subset=['molecule_chembl_id'])\n",
    "    df['MW'] = df['canonical_smiles'].apply(lambda x: MolWt(Chem.MolFromSmiles(x)))\n",
    "    df = df[df['MW']<=500]\n",
    "    print(\"Number of compounds = {}\".format(df.shape[0]))\n",
    "#     if(i==0):\n",
    "#         df = df[df['standard_type']!='CL/F']\n",
    "#     df = df[:500]\n",
    "    print(files[i])\n",
    "    s= Standardizer()\n",
    "    remover = SaltRemover(defnData=\"[Cl,Br,Na,K,F,I,Mg,Ca]\")\n",
    "    df['smiles'] = df['canonical_smiles'].apply(lambda x: Chem.MolToSmiles(s.standardize(remover.StripMol(Chem.MolFromSmiles(x)))))\n",
    "    df['HeavyAtomCount'] = df['smiles'].apply(lambda x: HeavyAtomCount(Chem.MolFromSmiles(x)))\n",
    "    df.drop_duplicates(subset=['smiles'],inplace=True)\n",
    "    print(\"Starting Fragmentation\")\n",
    "    df['frags'] = df['smiles'].apply(lambda x: rdMMPA.FragmentMol(Chem.MolFromSmiles(x), pattern=\"[#6+0;!$(*=,#[!#6])]!@!=!#[*]\", resultsAsMols=False))\n",
    "    print(\"Starting MMP\")\n",
    "    index = index_from_smiles_re(df)\n",
    "    \n",
    "    print(\"Making MMP table\")\n",
    "    start_time = time.time()\n",
    "\n",
    "    transform_lev0 = []\n",
    "    context_type = []\n",
    "    id_left = []\n",
    "    id_right = []\n",
    "    contextcont = []\n",
    "    \n",
    "    for key in index:\n",
    "        total = len(index[key])\n",
    "        if(total == 1):  # Meaning that this context does not have any Mathed Pairs therefore exit the for loop\n",
    "            continue\n",
    "        for xa in range(total-1):\n",
    "            for xb in range(xa+1,total):\n",
    "                id_a,core_a = index[key][xa].split(\";t\")\n",
    "                id_b,core_b = index[key][xb].split(\";t\")\n",
    "                if(id_a != id_b):\n",
    "                    id_a = int(id_a)\n",
    "                    id_b = int(id_b)\n",
    "                    if(core_a != core_b):\n",
    "                        if(df.loc[id_a]['assay_chembl_id'] == df.loc[id_b]['assay_chembl_id']):\n",
    "                            smirks,context = cansmirk(core_a,core_b,key)\n",
    "                            id_a = int(id_a)\n",
    "                            id_b = int(id_b)\n",
    "                            context_type.append(get_context_type(context))\n",
    "                            transform_lev0.append(smirks)\n",
    "                            contextcont.append(context)\n",
    "                            id_left.append(df.loc[id_a]['molecule_chembl_id'])\n",
    "                            id_right.append(df.loc[id_b]['molecule_chembl_id'])\n",
    "                            \n",
    "    \n",
    "\n",
    "    end_time = time.time()\n",
    "    print(\"total time taken this loop: \", end_time - start_time)\n",
    "    \n",
    "    print(\"Making MMP table 1. Dataframe finished\")\n",
    "    \n",
    "    df_mmp_lev0 = pd.DataFrame({'Reference_id' :id_left,\n",
    "                           'Query_id' :id_right,\n",
    "                           'transform' : transform_lev0,\n",
    "                           'Ref_Context' :context_type,\n",
    "                           'Query_Context' :context_type,\n",
    "                           'Context': contextcont}\n",
    "                          )\n",
    "\n",
    "    for _,x in df_mmp_lev0.iterrows():\n",
    "\n",
    "        trans_a,trans_b = x['transform'].split(\">>\")\n",
    "        opposite_transform = trans_b+\">>\"+trans_a\n",
    "\n",
    "        if(x['transform'] not in transforms):\n",
    "            sql = 'INSERT INTO transform (transform) VALUES (%s);'\n",
    "            cur.execute(sql, (x['transform'], ))\n",
    "            transforms.append(x['transform'])\n",
    "\n",
    "        if(opposite_transform not in transforms):\n",
    "            sql = 'insert into transform (transform) values (%s);'\n",
    "            cur.execute(sql,(opposite_transform, ))\n",
    "            transforms.append(opposite_transform)\n",
    "\n",
    "        if(trans_a not in one_side):\n",
    "            sql = 'insert into transform_left (transform_left) values (%s);'\n",
    "            cur.execute(sql,(trans_a, ))\n",
    "            one_side.append(trans_a)\n",
    "\n",
    "        if(trans_b not in one_side):\n",
    "            sql = 'insert into transform_left (transform_left) values (%s);'\n",
    "            cur.execute(sql,(trans_b, ))\n",
    "            one_side.append(trans_b)\n",
    "\n",
    "        if(x['Context'] not in context_cont):\n",
    "            sql = 'insert into context (context) values (%s);'\n",
    "            cur.execute(sql,(x['Context'], ))\n",
    "            context_cont.append(x['Context'])  \n",
    "\n",
    "        if(x['Ref_Context'] not in context_t):\n",
    "            sql = 'insert into context_type (context_type) values (%s);'\n",
    "            cur.execute(sql,(x['Ref_Context'], ))\n",
    "            context_t.append(x['Ref_Context']) \n",
    "            \n",
    "            \n",
    "\n",
    "        sql = 'insert into mmp_chembl (ref_id,query_id,transform, lhs, context_t, context)' \\\n",
    "              'values (%s,%s,%s,%s,%s,%s);'\n",
    "        cur.execute(sql,(x['Reference_id'],x['Query_id'], x['transform'], trans_a, x['Ref_Context'], x['Context']))\n",
    "\n",
    "\n",
    "        sql = 'insert into mmp_chembl (ref_id,query_id,transform, lhs, context_t, context)' \\\n",
    "              'values (%s,%s,%s,%s,%s,%s);'\n",
    "        cur.execute(sql,(x['Query_id'],x['Reference_id'], opposite_transform, trans_b, x['Query_Context'], x['Context']))\n",
    "        \n",
    "    \n",
    "    print(\"Updating MMP table 2. Dataframe finished\")\n",
    "    \n",
    "    sql = 'update mmp_chembl set id_a = (select ikenacomps.id from ikenacomps ' \\\n",
    "          'where ikenacomps.Molecule_id = mmp_chembl.ref_id)'\n",
    "    cur.execute(sql,())\n",
    "\n",
    "    sql = 'update mmp_chembl set id_b = (select ikenacomps.id from ikenacomps ' \\\n",
    "          'where ikenacomps.Molecule_id = mmp_chembl.query_id)'\n",
    "    cur.execute(sql,())\n",
    "\n",
    "\n",
    "    sql = 'update mmp_chembl set transform_id = (select transform.id from transform ' \\\n",
    "          'where transform.transform = mmp_chembl.transform)'\n",
    "    cur.execute(sql,())\n",
    "\n",
    "\n",
    "    sql = 'update mmp_chembl set lhs_id = (select transform_left.id from transform_left ' \\\n",
    "          'where transform_left.transform_left = mmp_chembl.lhs)'\n",
    "    cur.execute(sql,())\n",
    "\n",
    "\n",
    "    sql = 'update mmp_chembl set context_t_id = (select context_type.id from context_type ' \\\n",
    "          'where context_type.context_type = mmp_chembl.context_t)'\n",
    "    cur.execute(sql,())\n",
    "\n",
    "\n",
    "    sql = 'update mmp_chembl set context_id = (select context.id from context ' \\\n",
    "          'where context.context = mmp_chembl.context)'\n",
    "    cur.execute(sql,())\n",
    "        \n",
    "    print(\"Making MMP table 3. Dataframe finished\")\n",
    "    \n",
    "    \n",
    "    \n",
    "    "
   ]
  },
  {
   "cell_type": "code",
   "execution_count": 30,
   "id": "3a3626c1",
   "metadata": {},
   "outputs": [],
   "source": [
    "sql = 'alter table mmp_chembl drop column ref_id,' \\\n",
    "      'drop query_id, drop transform, drop lhs, drop context_t, drop context, drop context_t_id '\n",
    "cur.execute(sql,())  "
   ]
  },
  {
   "cell_type": "code",
   "execution_count": 31,
   "id": "14e6b669",
   "metadata": {},
   "outputs": [],
   "source": [
    "cnx.commit()\n",
    "cnx.close()"
   ]
  }
 ],
 "metadata": {
  "kernelspec": {
   "display_name": "Python 3",
   "language": "python",
   "name": "python3"
  },
  "language_info": {
   "codemirror_mode": {
    "name": "ipython",
    "version": 3
   },
   "file_extension": ".py",
   "mimetype": "text/x-python",
   "name": "python",
   "nbconvert_exporter": "python",
   "pygments_lexer": "ipython3",
   "version": "3.6.13"
  }
 },
 "nbformat": 4,
 "nbformat_minor": 5
}
